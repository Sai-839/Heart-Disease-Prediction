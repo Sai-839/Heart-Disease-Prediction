{
 "cells": [
  {
   "cell_type": "markdown",
   "metadata": {},
   "source": [
    "# Prosper Dataset Exploration"
   ]
  },
  {
   "cell_type": "code",
   "execution_count": 1,
   "metadata": {},
   "outputs": [
    {
     "name": "stdout",
     "output_type": "stream",
     "text": [
      "%pylab is deprecated, use %matplotlib inline and import the required libraries.\n",
      "Populating the interactive namespace from numpy and matplotlib\n"
     ]
    }
   ],
   "source": [
    "pylab inline"
   ]
  },
  {
   "cell_type": "code",
   "execution_count": 2,
   "metadata": {},
   "outputs": [],
   "source": [
    "import pandas as pd"
   ]
  },
  {
   "cell_type": "markdown",
   "metadata": {},
   "source": [
    "### Load data, inspect, format and subset to columns of interest"
   ]
  },
  {
   "cell_type": "code",
   "execution_count": 3,
   "metadata": {},
   "outputs": [],
   "source": [
    "#load and inspect\n",
    "#loans = pd.read_csv(r'C:\\Users\\Al\\Dropbox\\memphis\\teaching\\2021 spring\\7840\\data\\propsper.csv', low_memory=False)\n",
    "loans = pd.read_csv(r'C:\\Users\\al_ca\\Dropbox\\memphis\\teaching\\2024_spring\\FIR 7840\\data\\prosper_short.csv', low_memory=False)\n",
    "#loans = pd.read_csv(r'C:\\Users\\al_ca\\Dropbox\\memphis\\teaching\\2024_spring\\FIR 7840\\data\\prosper\\prosper.csv', low_memory=False)\n",
    "#loans.head()\n",
    "#loans.tail()"
   ]
  },
  {
   "cell_type": "code",
   "execution_count": 4,
   "metadata": {},
   "outputs": [
    {
     "data": {
      "text/plain": [
       "Index(['loan_number', 'amount_borrowed', 'borrower_rate', 'prosper_rating',\n",
       "       'term', 'age_in_months', 'origination_date', 'days_past_due',\n",
       "       'principal_balance', 'service_fees_paid',\n",
       "       ...\n",
       "       'CV21', 'CV22', 'CV23', 'CV24', 'TUFicoRange', 'TUFicoDate',\n",
       "       'dti_wprosper_loan', 'CoBorrowerApplication', 'CombinedDtiwProsperLoan',\n",
       "       'CombinedStatedMonthlyIncome'],\n",
       "      dtype='object', length=880)"
      ]
     },
     "execution_count": 4,
     "metadata": {},
     "output_type": "execute_result"
    }
   ],
   "source": [
    "loans.columns"
   ]
  },
  {
   "cell_type": "code",
   "execution_count": 5,
   "metadata": {},
   "outputs": [
    {
     "data": {
      "text/plain": [
       "Index(['principal_paid', 'interest_paid', 'prosper_fees_paid',\n",
       "       'late_fees_paid', 'debt_sale_proceeds_received', 'loan_status',\n",
       "       'loan_status_description', 'loan_default_reason',\n",
       "       'loan_default_reason_description', 'next_payment_due_date',\n",
       "       'next_payment_due_amount', 'co_borrower_application', 'listing_number',\n",
       "       'member_key', 'credit_pull_date', 'listing_start_date',\n",
       "       'listing_end_date', 'listing_creation_date', 'listing_status',\n",
       "       'listing_status_reason', 'listing_amount', 'amount_remaining',\n",
       "       'percent_funded', 'partial_funding_indicator', 'funding_threshold',\n",
       "       'estimated_return', 'estimated_loss_rate', 'lender_yield',\n",
       "       'effective_yield', 'borrower_apr', 'listing_monthly_payment', 'scorex',\n",
       "       'scorex_change', 'fico_score', 'prosper_score', 'listing_category_id',\n",
       "       'income_range', 'income_range_description', 'stated_monthly_income',\n",
       "       'income_verifiable'],\n",
       "      dtype='object')"
      ]
     },
     "execution_count": 5,
     "metadata": {},
     "output_type": "execute_result"
    }
   ],
   "source": [
    "loans.columns[10:50]"
   ]
  },
  {
   "cell_type": "code",
   "execution_count": 6,
   "metadata": {},
   "outputs": [
    {
     "data": {
      "text/plain": [
       "RangeIndex(start=0, stop=25000, step=1)"
      ]
     },
     "execution_count": 6,
     "metadata": {},
     "output_type": "execute_result"
    }
   ],
   "source": [
    "loans.index"
   ]
  },
  {
   "cell_type": "code",
   "execution_count": 7,
   "metadata": {},
   "outputs": [
    {
     "data": {
      "text/plain": [
       "loan_number                      int64\n",
       "amount_borrowed                float64\n",
       "borrower_rate                  float64\n",
       "prosper_rating                  object\n",
       "term                             int64\n",
       "                                ...   \n",
       "TUFicoDate                     float64\n",
       "dti_wprosper_loan              float64\n",
       "CoBorrowerApplication             bool\n",
       "CombinedDtiwProsperLoan        float64\n",
       "CombinedStatedMonthlyIncome    float64\n",
       "Length: 880, dtype: object"
      ]
     },
     "execution_count": 7,
     "metadata": {},
     "output_type": "execute_result"
    }
   ],
   "source": [
    "#what are the datatypes in each column?\n",
    "loans.dtypes"
   ]
  },
  {
   "cell_type": "markdown",
   "metadata": {},
   "source": [
    "### Loan status\n",
    "Most likely the source of our dependent variable"
   ]
  },
  {
   "cell_type": "code",
   "execution_count": 8,
   "metadata": {},
   "outputs": [
    {
     "data": {
      "text/plain": [
       "count         25000\n",
       "unique            4\n",
       "top       COMPLETED\n",
       "freq          19728\n",
       "Name: loan_status_description, dtype: object"
      ]
     },
     "execution_count": 8,
     "metadata": {},
     "output_type": "execute_result"
    }
   ],
   "source": [
    "loans['loan_status_description'].describe()"
   ]
  },
  {
   "cell_type": "code",
   "execution_count": 9,
   "metadata": {},
   "outputs": [
    {
     "data": {
      "text/plain": [
       "loan_status_description\n",
       "COMPLETED    19728\n",
       "DEFAULTED     4478\n",
       "CHARGEOFF      753\n",
       "CANCELLED       41\n",
       "Name: count, dtype: int64"
      ]
     },
     "execution_count": 9,
     "metadata": {},
     "output_type": "execute_result"
    }
   ],
   "source": [
    "loans['loan_status_description'].value_counts()"
   ]
  },
  {
   "cell_type": "code",
   "execution_count": 10,
   "metadata": {},
   "outputs": [
    {
     "data": {
      "text/html": [
       "<div>\n",
       "<style scoped>\n",
       "    .dataframe tbody tr th:only-of-type {\n",
       "        vertical-align: middle;\n",
       "    }\n",
       "\n",
       "    .dataframe tbody tr th {\n",
       "        vertical-align: top;\n",
       "    }\n",
       "\n",
       "    .dataframe thead th {\n",
       "        text-align: right;\n",
       "    }\n",
       "</style>\n",
       "<table border=\"1\" class=\"dataframe\">\n",
       "  <thead>\n",
       "    <tr style=\"text-align: right;\">\n",
       "      <th></th>\n",
       "      <th>loan_number</th>\n",
       "      <th>amount_borrowed</th>\n",
       "      <th>borrower_rate</th>\n",
       "      <th>prosper_rating</th>\n",
       "      <th>term</th>\n",
       "      <th>age_in_months</th>\n",
       "      <th>origination_date</th>\n",
       "      <th>days_past_due</th>\n",
       "      <th>principal_balance</th>\n",
       "      <th>service_fees_paid</th>\n",
       "      <th>...</th>\n",
       "      <th>CV21</th>\n",
       "      <th>CV22</th>\n",
       "      <th>CV23</th>\n",
       "      <th>CV24</th>\n",
       "      <th>TUFicoRange</th>\n",
       "      <th>TUFicoDate</th>\n",
       "      <th>dti_wprosper_loan</th>\n",
       "      <th>CoBorrowerApplication</th>\n",
       "      <th>CombinedDtiwProsperLoan</th>\n",
       "      <th>CombinedStatedMonthlyIncome</th>\n",
       "    </tr>\n",
       "  </thead>\n",
       "  <tbody>\n",
       "  </tbody>\n",
       "</table>\n",
       "<p>0 rows × 880 columns</p>\n",
       "</div>"
      ],
      "text/plain": [
       "Empty DataFrame\n",
       "Columns: [loan_number, amount_borrowed, borrower_rate, prosper_rating, term, age_in_months, origination_date, days_past_due, principal_balance, service_fees_paid, principal_paid, interest_paid, prosper_fees_paid, late_fees_paid, debt_sale_proceeds_received, loan_status, loan_status_description, loan_default_reason, loan_default_reason_description, next_payment_due_date, next_payment_due_amount, co_borrower_application, listing_number, member_key, credit_pull_date, listing_start_date, listing_end_date, listing_creation_date, listing_status, listing_status_reason, listing_amount, amount_remaining, percent_funded, partial_funding_indicator, funding_threshold, estimated_return, estimated_loss_rate, lender_yield, effective_yield, borrower_apr, listing_monthly_payment, scorex, scorex_change, fico_score, prosper_score, listing_category_id, income_range, income_range_description, stated_monthly_income, income_verifiable, employment_status_description, occupation, months_employed, borrower_state, borrower_city, borrower_metropolitan_area, prior_prosper_loans_active, prior_prosper_loans, prior_prosper_loans_principal_borrowed, prior_prosper_loans_principal_outstanding, prior_prosper_loans_balance_outstanding, prior_prosper_loans_cycles_billed, prior_prosper_loans_ontime_payments, prior_prosper_loans_late_cycles, prior_prosper_loans_late_payments_one_month_plus, max_prior_prosper_loan, min_prior_prosper_loan, prior_prosper_loan_earliest_pay_off, prior_prosper_loans31dpd, prior_prosper_loans61dpd, lender_indicator, group_indicator, channel_code, amount_participation, all001, all002, all003, all005, all006, all007, all010, all021, all022, all023, all024, all026, all051, all052, all062, all064, all067, all071, all081, all082, all090, all101, all102, all106, all108, all118, ...]\n",
       "Index: []\n",
       "\n",
       "[0 rows x 880 columns]"
      ]
     },
     "execution_count": 10,
     "metadata": {},
     "output_type": "execute_result"
    }
   ],
   "source": [
    "loans.loc[ loans['loan_status_description'].isnull() ]"
   ]
  },
  {
   "cell_type": "markdown",
   "metadata": {},
   "source": [
    "### Loan term\n",
    "\n",
    "How many types?  Do we want to separate out one type to focus on, or pool them together?"
   ]
  },
  {
   "cell_type": "code",
   "execution_count": 11,
   "metadata": {},
   "outputs": [
    {
     "data": {
      "text/plain": [
       "count    25000.000000\n",
       "mean        44.180160\n",
       "std         11.376027\n",
       "min         36.000000\n",
       "25%         36.000000\n",
       "50%         36.000000\n",
       "75%         60.000000\n",
       "max         60.000000\n",
       "Name: term, dtype: float64"
      ]
     },
     "execution_count": 11,
     "metadata": {},
     "output_type": "execute_result"
    }
   ],
   "source": [
    "loans['term'].describe()"
   ]
  },
  {
   "cell_type": "code",
   "execution_count": 12,
   "metadata": {},
   "outputs": [
    {
     "data": {
      "text/plain": [
       "term\n",
       "36    16479\n",
       "60     8521\n",
       "Name: count, dtype: int64"
      ]
     },
     "execution_count": 12,
     "metadata": {},
     "output_type": "execute_result"
    }
   ],
   "source": [
    "loans['term'].value_counts()"
   ]
  },
  {
   "cell_type": "code",
   "execution_count": 13,
   "metadata": {},
   "outputs": [],
   "source": [
    "#Let's just focus on 3 year loans\n",
    "loans = loans.loc[loans['term']==36]"
   ]
  },
  {
   "cell_type": "markdown",
   "metadata": {},
   "source": [
    "### Loan grade\n",
    "\n",
    "How does Propsper rate the loan?"
   ]
  },
  {
   "cell_type": "code",
   "execution_count": 14,
   "metadata": {},
   "outputs": [
    {
     "data": {
      "text/plain": [
       "count     16479\n",
       "unique        7\n",
       "top           A\n",
       "freq       4311\n",
       "Name: prosper_rating, dtype: object"
      ]
     },
     "execution_count": 14,
     "metadata": {},
     "output_type": "execute_result"
    }
   ],
   "source": [
    "loans['prosper_rating'].describe()"
   ]
  },
  {
   "cell_type": "code",
   "execution_count": 15,
   "metadata": {},
   "outputs": [
    {
     "data": {
      "text/plain": [
       "prosper_rating\n",
       "A     4311\n",
       "B     3752\n",
       "C     3474\n",
       "AA    2434\n",
       "D     1613\n",
       "E      651\n",
       "HR     244\n",
       "Name: count, dtype: int64"
      ]
     },
     "execution_count": 15,
     "metadata": {},
     "output_type": "execute_result"
    }
   ],
   "source": [
    "loans['prosper_rating'].value_counts()"
   ]
  },
  {
   "cell_type": "code",
   "execution_count": 16,
   "metadata": {
    "scrolled": true
   },
   "outputs": [
    {
     "data": {
      "image/png": "[encoded data removed]",
      "text/plain": [
       "<Figure size 640x480 with 1 Axes>"
      ]
     },
     "metadata": {},
     "output_type": "display_data"
    }
   ],
   "source": [
    "fig = loans.groupby('prosper_rating')['prosper_rating'].count().plot(kind='bar')"
   ]
  },
  {
   "cell_type": "code",
   "execution_count": 17,
   "metadata": {},
   "outputs": [],
   "source": [
    "#let's change the rating datatype so it sorts nicely\n",
    "ratings = ['AA','A','B','C','D','E','HR']\n",
    "loans['prosper_rating'] = pd.Categorical(loans['prosper_rating'], ordered=True, categories=ratings)"
   ]
  },
  {
   "cell_type": "code",
   "execution_count": 18,
   "metadata": {},
   "outputs": [
    {
     "data": {
      "image/png": "[encoded data removed]",
      "text/plain": [
       "<Figure size 640x480 with 1 Axes>"
      ]
     },
     "metadata": {},
     "output_type": "display_data"
    }
   ],
   "source": [
    "fig = loans.groupby('prosper_rating')['prosper_rating'].count().plot(kind='bar')"
   ]
  },
  {
   "cell_type": "markdown",
   "metadata": {},
   "source": [
    "### Loan amount\n",
    "\n",
    "Does this come in a usable datatype? What does the distribution look like?  Do the outliers look real?"
   ]
  },
  {
   "cell_type": "code",
   "execution_count": 19,
   "metadata": {},
   "outputs": [
    {
     "data": {
      "text/plain": [
       "count    16479.000000\n",
       "mean     11720.833903\n",
       "std       8085.792901\n",
       "min       2000.000000\n",
       "25%       5500.000000\n",
       "50%       9800.000000\n",
       "75%      16000.000000\n",
       "max      35000.000000\n",
       "Name: amount_borrowed, dtype: float64"
      ]
     },
     "execution_count": 19,
     "metadata": {},
     "output_type": "execute_result"
    }
   ],
   "source": [
    "loans['amount_borrowed'].describe()"
   ]
  },
  {
   "cell_type": "code",
   "execution_count": 20,
   "metadata": {},
   "outputs": [
    {
     "data": {
      "text/plain": [
       "<Axes: >"
      ]
     },
     "execution_count": 20,
     "metadata": {},
     "output_type": "execute_result"
    },
    {
     "data": {
      "image/png": "[encoded data removed]",
      "text/plain": [
       "<Figure size 640x480 with 1 Axes>"
      ]
     },
     "metadata": {},
     "output_type": "display_data"
    }
   ],
   "source": [
    "loans['amount_borrowed'].hist()"
   ]
  },
  {
   "cell_type": "markdown",
   "metadata": {},
   "source": [
    "### How do loan grade and loan amount relate to probabilty of default?"
   ]
  },
  {
   "cell_type": "code",
   "execution_count": 21,
   "metadata": {},
   "outputs": [],
   "source": [
    "loans['origination_date'] = pd.to_datetime(loans['origination_date'])"
   ]
  },
  {
   "cell_type": "code",
   "execution_count": 22,
   "metadata": {},
   "outputs": [],
   "source": [
    "loans['orig_year'] = loans['origination_date'].dt.year"
   ]
  },
  {
   "cell_type": "code",
   "execution_count": 23,
   "metadata": {},
   "outputs": [],
   "source": [
    "#loans = loans.loc[loans['orig_year']==2015]"
   ]
  },
  {
   "cell_type": "code",
   "execution_count": 24,
   "metadata": {},
   "outputs": [],
   "source": [
    "#Make defaulted dummy column\n",
    "loans['defaulted'] = 0"
   ]
  },
  {
   "cell_type": "code",
   "execution_count": 25,
   "metadata": {},
   "outputs": [],
   "source": [
    "loans.loc[loans['loan_status_description']=='CHARGEOFF', 'defaulted'] = 1\n",
    "loans.loc[loans['loan_status_description']=='DEFAULTED', 'defaulted'] = 1"
   ]
  },
  {
   "cell_type": "code",
   "execution_count": 26,
   "metadata": {},
   "outputs": [],
   "source": [
    "#Get rid of loans that are still outstanding ( we don't know if they will eventually default) and loans that were cancelled\n",
    "loans.loc[loans['loan_status_description']=='CURRENT', 'defaulted'] = -1\n",
    "loans.loc[loans['loan_status_description']=='CANCELLED', 'defaulted'] = -1\n",
    "loans = loans.loc[loans['defaulted']>= 0]"
   ]
  },
  {
   "cell_type": "code",
   "execution_count": 27,
   "metadata": {},
   "outputs": [
    {
     "data": {
      "text/plain": [
       "0.17073911986384635"
      ]
     },
     "execution_count": 27,
     "metadata": {},
     "output_type": "execute_result"
    }
   ],
   "source": [
    "#average default rate\n",
    "loans['defaulted'].mean()"
   ]
  },
  {
   "cell_type": "code",
   "execution_count": 28,
   "metadata": {},
   "outputs": [
    {
     "data": {
      "text/plain": [
       "defaulted\n",
       "0    13643\n",
       "1     2809\n",
       "Name: count, dtype: int64"
      ]
     },
     "execution_count": 28,
     "metadata": {},
     "output_type": "execute_result"
    }
   ],
   "source": [
    "loans['defaulted'].value_counts()"
   ]
  },
  {
   "cell_type": "code",
   "execution_count": 29,
   "metadata": {},
   "outputs": [
    {
     "data": {
      "text/plain": [
       "prosper_rating\n",
       "AA    0.059573\n",
       "A     0.111757\n",
       "B     0.170895\n",
       "C     0.241708\n",
       "D     0.267081\n",
       "E     0.304012\n",
       "HR    0.319672\n",
       "Name: defaulted, dtype: float64"
      ]
     },
     "execution_count": 29,
     "metadata": {},
     "output_type": "execute_result"
    }
   ],
   "source": [
    "#default rate by rating\n",
    "loans.groupby('prosper_rating')['defaulted'].mean()"
   ]
  },
  {
   "cell_type": "code",
   "execution_count": 30,
   "metadata": {},
   "outputs": [
    {
     "data": {
      "image/png": "[encoded data removed]",
      "text/plain": [
       "<Figure size 640x480 with 1 Axes>"
      ]
     },
     "metadata": {},
     "output_type": "display_data"
    }
   ],
   "source": [
    "fig = loans.groupby('prosper_rating')['defaulted'].mean().plot(kind='bar')"
   ]
  },
  {
   "cell_type": "code",
   "execution_count": 31,
   "metadata": {},
   "outputs": [
    {
     "data": {
      "text/plain": [
       "0.0068794862906008045"
      ]
     },
     "execution_count": 31,
     "metadata": {},
     "output_type": "execute_result"
    }
   ],
   "source": [
    "#correlation between default and loan size\n",
    "loans['defaulted'].corr(loans['amount_borrowed'])"
   ]
  }
 ],
 "metadata": {
  "kernelspec": {
   "display_name": "Python 3 (ipykernel)",
   "language": "python",
   "name": "python3"
  },
  "language_info": {
   "codemirror_mode": {
    "name": "ipython",
    "version": 3
   },
   "file_extension": ".py",
   "mimetype": "text/x-python",
   "name": "python",
   "nbconvert_exporter": "python",
   "pygments_lexer": "ipython3",
   "version": "3.11.5"
  }
 },
 "nbformat": 4,
 "nbformat_minor": 2
}
