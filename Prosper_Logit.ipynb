{
 "cells": [
  {
   "cell_type": "markdown",
   "metadata": {},
   "source": [
    "# Prosper Logit Model Example"
   ]
  },
  {
   "cell_type": "markdown",
   "metadata": {},
   "source": [
    "This demonstrates a simple Logit model to predict defaults on Prosper data"
   ]
  },
  {
   "cell_type": "code",
   "execution_count": 1,
   "metadata": {},
   "outputs": [
    {
     "name": "stdout",
     "output_type": "stream",
     "text": [
      "%pylab is deprecated, use %matplotlib inline and import the required libraries.\n",
      "Populating the interactive namespace from numpy and matplotlib\n"
     ]
    }
   ],
   "source": [
    "pylab inline"
   ]
  },
  {
   "cell_type": "code",
   "execution_count": 2,
   "metadata": {},
   "outputs": [],
   "source": [
    "import pandas as pd\n",
    "import numpy as np\n",
    "import statsmodels.api as sm\n",
    "import statsmodels.formula.api as smf\n",
    "import sklearn.metrics as metrics"
   ]
  },
  {
   "cell_type": "markdown",
   "metadata": {},
   "source": [
    "### Load data, inspect, subset to columns and loan terms of interest, format"
   ]
  },
  {
   "cell_type": "code",
   "execution_count": 3,
   "metadata": {},
   "outputs": [],
   "source": [
    "#load and inspect\n",
    "loans = pd.read_csv(r'C:\\Users\\al_ca\\Dropbox\\memphis\\teaching\\2024_spring\\FIR 7840\\data\\prosper_short.csv', low_memory=False)\n",
    "#loans = pd.read_csv(r'C:\\Users\\al_ca\\Dropbox\\memphis\\teaching\\2024_spring\\FIR 7840\\data\\prosper\\prosper.csv', low_memory=False)\n",
    "#loans.head()"
   ]
  },
  {
   "cell_type": "code",
   "execution_count": 4,
   "metadata": {},
   "outputs": [
    {
     "data": {
      "text/plain": [
       "Index(['loan_number', 'amount_borrowed', 'borrower_rate', 'prosper_rating',\n",
       "       'term', 'age_in_months', 'origination_date', 'days_past_due',\n",
       "       'principal_balance', 'service_fees_paid',\n",
       "       ...\n",
       "       'CV21', 'CV22', 'CV23', 'CV24', 'TUFicoRange', 'TUFicoDate',\n",
       "       'dti_wprosper_loan', 'CoBorrowerApplication', 'CombinedDtiwProsperLoan',\n",
       "       'CombinedStatedMonthlyIncome'],\n",
       "      dtype='object', length=880)"
      ]
     },
     "execution_count": 4,
     "metadata": {},
     "output_type": "execute_result"
    }
   ],
   "source": [
    "loans.columns"
   ]
  },
  {
   "cell_type": "code",
   "execution_count": 5,
   "metadata": {},
   "outputs": [],
   "source": [
    "#Get just 3 yr loans\n",
    "loans = loans.loc[loans['term']==36]"
   ]
  },
  {
   "cell_type": "code",
   "execution_count": 6,
   "metadata": {},
   "outputs": [],
   "source": [
    "#Subset to columns of interest\n",
    "#add fico\n",
    "loans = loans[['loan_number', 'loan_status_description', 'origination_date', 'amount_borrowed', 'listing_monthly_payment', \n",
    "               'borrower_rate', 'stated_monthly_income', 'dti_wprosper_loan', 'prosper_rating', 'occupation']]"
   ]
  },
  {
   "cell_type": "code",
   "execution_count": 7,
   "metadata": {},
   "outputs": [
    {
     "data": {
      "text/plain": [
       "loan_number                  int64\n",
       "loan_status_description     object\n",
       "origination_date            object\n",
       "amount_borrowed            float64\n",
       "listing_monthly_payment    float64\n",
       "borrower_rate              float64\n",
       "stated_monthly_income      float64\n",
       "dti_wprosper_loan          float64\n",
       "prosper_rating              object\n",
       "occupation                  object\n",
       "dtype: object"
      ]
     },
     "execution_count": 7,
     "metadata": {},
     "output_type": "execute_result"
    }
   ],
   "source": [
    "#what are the datatypes in each column?\n",
    "loans.dtypes"
   ]
  },
  {
   "cell_type": "code",
   "execution_count": 8,
   "metadata": {},
   "outputs": [
    {
     "data": {
      "text/plain": [
       "loan_number                   0\n",
       "loan_status_description       0\n",
       "origination_date              0\n",
       "amount_borrowed               0\n",
       "listing_monthly_payment       0\n",
       "borrower_rate                 0\n",
       "stated_monthly_income         0\n",
       "dti_wprosper_loan             0\n",
       "prosper_rating                0\n",
       "occupation                 1312\n",
       "dtype: int64"
      ]
     },
     "execution_count": 8,
     "metadata": {},
     "output_type": "execute_result"
    }
   ],
   "source": [
    "#count missing values\n",
    "loans.isnull().sum()"
   ]
  },
  {
   "cell_type": "code",
   "execution_count": 9,
   "metadata": {},
   "outputs": [],
   "source": [
    "#Make defaulted dummy column, throw away undecided/cancelled loans\n",
    "loans['defaulted'] = 0\n",
    "loans.loc[loans['loan_status_description']=='CHARGEOFF', 'defaulted'] = 1\n",
    "loans.loc[loans['loan_status_description']=='DEFAULTED', 'defaulted'] = 1\n",
    "loans.loc[loans['loan_status_description']=='CURRENT', 'defaulted'] = -1\n",
    "loans.loc[loans['loan_status_description']=='CANCELLED', 'defaulted'] = -1\n",
    "loans = loans.loc[loans['defaulted']>= 0]"
   ]
  },
  {
   "cell_type": "code",
   "execution_count": 10,
   "metadata": {},
   "outputs": [],
   "source": [
    "#Format other columns of interest\n",
    "loans['origination_date'] = pd.to_datetime(loans['origination_date'])\n",
    "ratings = ['AA','A','B','C','D','E','HR']\n",
    "category_rating = pd.api.types.CategoricalDtype(categories=ratings, ordered=True)\n",
    "loans['prosper_rating'] = loans['prosper_rating'].astype(category_rating)"
   ]
  },
  {
   "cell_type": "code",
   "execution_count": 11,
   "metadata": {},
   "outputs": [],
   "source": [
    "#Subset to just loans originated in 2015\n",
    "loans = loans.loc[loans['origination_date'].dt.year == 2015]"
   ]
  },
  {
   "cell_type": "code",
   "execution_count": 12,
   "metadata": {},
   "outputs": [
    {
     "data": {
      "text/plain": [
       "count    16452.000000\n",
       "mean         0.131103\n",
       "std          0.052385\n",
       "min          0.060000\n",
       "25%          0.092200\n",
       "50%          0.119800\n",
       "75%          0.160100\n",
       "max          0.312500\n",
       "Name: borrower_rate, dtype: float64"
      ]
     },
     "execution_count": 12,
     "metadata": {},
     "output_type": "execute_result"
    }
   ],
   "source": [
    "#Inspect interest rate\n",
    "loans['borrower_rate'].describe()"
   ]
  },
  {
   "cell_type": "code",
   "execution_count": 13,
   "metadata": {},
   "outputs": [
    {
     "data": {
      "text/plain": [
       "<Axes: >"
      ]
     },
     "execution_count": 13,
     "metadata": {},
     "output_type": "execute_result"
    },
    {
     "data": {
      "image/png": "[encoded data removed]",
      "text/plain": [
       "<Figure size 640x480 with 1 Axes>"
      ]
     },
     "metadata": {},
     "output_type": "display_data"
    }
   ],
   "source": [
    "loans['borrower_rate'].hist()"
   ]
  },
  {
   "cell_type": "code",
   "execution_count": 14,
   "metadata": {},
   "outputs": [
    {
     "data": {
      "text/plain": [
       "count      16452.000000\n",
       "mean       61512.532797\n",
       "std       240274.833407\n",
       "min            0.000000\n",
       "25%            0.180000\n",
       "50%            0.270000\n",
       "75%            0.380000\n",
       "max      1000000.000000\n",
       "Name: dti_wprosper_loan, dtype: float64"
      ]
     },
     "execution_count": 14,
     "metadata": {},
     "output_type": "execute_result"
    }
   ],
   "source": [
    "#Inspect debt-to-income ratio\n",
    "loans['dti_wprosper_loan'].describe()"
   ]
  },
  {
   "cell_type": "code",
   "execution_count": 15,
   "metadata": {},
   "outputs": [
    {
     "data": {
      "text/plain": [
       "<Axes: >"
      ]
     },
     "execution_count": 15,
     "metadata": {},
     "output_type": "execute_result"
    },
    {
     "data": {
      "image/png": "[encoded data removed]",
      "text/plain": [
       "<Figure size 640x480 with 1 Axes>"
      ]
     },
     "metadata": {},
     "output_type": "display_data"
    }
   ],
   "source": [
    "loans['dti_wprosper_loan'].hist()"
   ]
  },
  {
   "cell_type": "code",
   "execution_count": 16,
   "metadata": {},
   "outputs": [],
   "source": [
    "loans.loc[ loans['dti_wprosper_loan'] > loans['dti_wprosper_loan'].quantile(0.95), 'dti_wprosper_loan'] \\\n",
    "    = loans['dti_wprosper_loan'].quantile(0.95)"
   ]
  },
  {
   "cell_type": "code",
   "execution_count": 17,
   "metadata": {},
   "outputs": [
    {
     "data": {
      "text/plain": [
       "<Axes: >"
      ]
     },
     "execution_count": 17,
     "metadata": {},
     "output_type": "execute_result"
    },
    {
     "data": {
      "image/png": "[encoded data removed]",
      "text/plain": [
       "<Figure size 640x480 with 1 Axes>"
      ]
     },
     "metadata": {},
     "output_type": "display_data"
    }
   ],
   "source": [
    "loans['dti_wprosper_loan'].hist()"
   ]
  },
  {
   "cell_type": "code",
   "execution_count": 18,
   "metadata": {},
   "outputs": [
    {
     "data": {
      "text/plain": [
       "1000000.0"
      ]
     },
     "execution_count": 18,
     "metadata": {},
     "output_type": "execute_result"
    }
   ],
   "source": [
    "loans['dti_wprosper_loan'].quantile(0.95)"
   ]
  },
  {
   "cell_type": "code",
   "execution_count": 19,
   "metadata": {},
   "outputs": [],
   "source": [
    "#Sort by date\n",
    "loans = loans.sort_values('origination_date')\n",
    "loans = loans.reset_index(drop=True)"
   ]
  },
  {
   "cell_type": "code",
   "execution_count": 20,
   "metadata": {},
   "outputs": [
    {
     "data": {
      "image/png": "[encoded data removed]",
      "text/plain": [
       "<Figure size 640x480 with 1 Axes>"
      ]
     },
     "metadata": {},
     "output_type": "display_data"
    }
   ],
   "source": [
    "#Plot default rate vs. date\n",
    "defaulted_byMonth = loans.groupby('origination_date')['defaulted'].mean()\n",
    "fig = defaulted_byMonth.plot()"
   ]
  },
  {
   "cell_type": "code",
   "execution_count": 21,
   "metadata": {},
   "outputs": [
    {
     "data": {
      "image/png": "[encoded data removed]",
      "text/plain": [
       "<Figure size 640x480 with 1 Axes>"
      ]
     },
     "metadata": {},
     "output_type": "display_data"
    }
   ],
   "source": [
    "#How many loans issued per month?\n",
    "issued_byMonth = loans.groupby('origination_date')['loan_number'].count()\n",
    "fig = issued_byMonth.plot()"
   ]
  },
  {
   "cell_type": "code",
   "execution_count": 22,
   "metadata": {},
   "outputs": [
    {
     "data": {
      "text/html": [
       "<div>\n",
       "<style scoped>\n",
       "    .dataframe tbody tr th:only-of-type {\n",
       "        vertical-align: middle;\n",
       "    }\n",
       "\n",
       "    .dataframe tbody tr th {\n",
       "        vertical-align: top;\n",
       "    }\n",
       "\n",
       "    .dataframe thead th {\n",
       "        text-align: right;\n",
       "    }\n",
       "</style>\n",
       "<table border=\"1\" class=\"dataframe\">\n",
       "  <thead>\n",
       "    <tr style=\"text-align: right;\">\n",
       "      <th></th>\n",
       "      <th>loan_number</th>\n",
       "      <th>loan_status_description</th>\n",
       "      <th>origination_date</th>\n",
       "      <th>amount_borrowed</th>\n",
       "      <th>listing_monthly_payment</th>\n",
       "      <th>borrower_rate</th>\n",
       "      <th>stated_monthly_income</th>\n",
       "      <th>dti_wprosper_loan</th>\n",
       "      <th>prosper_rating</th>\n",
       "      <th>occupation</th>\n",
       "      <th>defaulted</th>\n",
       "    </tr>\n",
       "  </thead>\n",
       "  <tbody>\n",
       "    <tr>\n",
       "      <th>0</th>\n",
       "      <td>254360</td>\n",
       "      <td>COMPLETED</td>\n",
       "      <td>2015-01-02</td>\n",
       "      <td>6000.0</td>\n",
       "      <td>188.54</td>\n",
       "      <td>0.0819</td>\n",
       "      <td>2083.3333</td>\n",
       "      <td>0.24</td>\n",
       "      <td>A</td>\n",
       "      <td>NaN</td>\n",
       "      <td>0</td>\n",
       "    </tr>\n",
       "    <tr>\n",
       "      <th>1</th>\n",
       "      <td>254920</td>\n",
       "      <td>COMPLETED</td>\n",
       "      <td>2015-01-02</td>\n",
       "      <td>2000.0</td>\n",
       "      <td>62.85</td>\n",
       "      <td>0.0819</td>\n",
       "      <td>1541.6667</td>\n",
       "      <td>0.16</td>\n",
       "      <td>A</td>\n",
       "      <td>Computer Programmer</td>\n",
       "      <td>0</td>\n",
       "    </tr>\n",
       "    <tr>\n",
       "      <th>2</th>\n",
       "      <td>254923</td>\n",
       "      <td>COMPLETED</td>\n",
       "      <td>2015-01-02</td>\n",
       "      <td>3000.0</td>\n",
       "      <td>91.58</td>\n",
       "      <td>0.0623</td>\n",
       "      <td>3750.0000</td>\n",
       "      <td>0.27</td>\n",
       "      <td>AA</td>\n",
       "      <td>Retail Management</td>\n",
       "      <td>0</td>\n",
       "    </tr>\n",
       "    <tr>\n",
       "      <th>3</th>\n",
       "      <td>254929</td>\n",
       "      <td>COMPLETED</td>\n",
       "      <td>2015-01-02</td>\n",
       "      <td>12000.0</td>\n",
       "      <td>408.56</td>\n",
       "      <td>0.1373</td>\n",
       "      <td>8333.3333</td>\n",
       "      <td>0.19</td>\n",
       "      <td>B</td>\n",
       "      <td>Professional</td>\n",
       "      <td>0</td>\n",
       "    </tr>\n",
       "    <tr>\n",
       "      <th>4</th>\n",
       "      <td>254931</td>\n",
       "      <td>COMPLETED</td>\n",
       "      <td>2015-01-02</td>\n",
       "      <td>25000.0</td>\n",
       "      <td>817.88</td>\n",
       "      <td>0.1095</td>\n",
       "      <td>8083.3333</td>\n",
       "      <td>0.30</td>\n",
       "      <td>A</td>\n",
       "      <td>Analyst</td>\n",
       "      <td>0</td>\n",
       "    </tr>\n",
       "  </tbody>\n",
       "</table>\n",
       "</div>"
      ],
      "text/plain": [
       "   loan_number loan_status_description origination_date  amount_borrowed  \\\n",
       "0       254360               COMPLETED       2015-01-02           6000.0   \n",
       "1       254920               COMPLETED       2015-01-02           2000.0   \n",
       "2       254923               COMPLETED       2015-01-02           3000.0   \n",
       "3       254929               COMPLETED       2015-01-02          12000.0   \n",
       "4       254931               COMPLETED       2015-01-02          25000.0   \n",
       "\n",
       "   listing_monthly_payment  borrower_rate  stated_monthly_income  \\\n",
       "0                   188.54         0.0819              2083.3333   \n",
       "1                    62.85         0.0819              1541.6667   \n",
       "2                    91.58         0.0623              3750.0000   \n",
       "3                   408.56         0.1373              8333.3333   \n",
       "4                   817.88         0.1095              8083.3333   \n",
       "\n",
       "   dti_wprosper_loan prosper_rating           occupation  defaulted  \n",
       "0               0.24              A                  NaN          0  \n",
       "1               0.16              A  Computer Programmer          0  \n",
       "2               0.27             AA    Retail Management          0  \n",
       "3               0.19              B         Professional          0  \n",
       "4               0.30              A              Analyst          0  "
      ]
     },
     "execution_count": 22,
     "metadata": {},
     "output_type": "execute_result"
    }
   ],
   "source": [
    "loans.head()"
   ]
  },
  {
   "cell_type": "markdown",
   "metadata": {},
   "source": [
    "# Logit model: version 1"
   ]
  },
  {
   "cell_type": "markdown",
   "metadata": {},
   "source": [
    "Model default as a function of loan amount, payment, interest rate, income, and dti"
   ]
  },
  {
   "cell_type": "code",
   "execution_count": 23,
   "metadata": {},
   "outputs": [
    {
     "name": "stdout",
     "output_type": "stream",
     "text": [
      "Optimization terminated successfully.\n",
      "         Current function value: 0.436047\n",
      "         Iterations 7\n"
     ]
    }
   ],
   "source": [
    "#specify and fit model\n",
    "result = smf.logit('defaulted ~ amount_borrowed + listing_monthly_payment + borrower_rate + \\\n",
    "                    stated_monthly_income + dti_wprosper_loan', loans).fit()"
   ]
  },
  {
   "cell_type": "code",
   "execution_count": 24,
   "metadata": {},
   "outputs": [
    {
     "data": {
      "text/html": [
       "<table class=\"simpletable\">\n",
       "<caption>Logit Regression Results</caption>\n",
       "<tr>\n",
       "  <th>Dep. Variable:</th>       <td>defaulted</td>    <th>  No. Observations:  </th>   <td> 16452</td>  \n",
       "</tr>\n",
       "<tr>\n",
       "  <th>Model:</th>                 <td>Logit</td>      <th>  Df Residuals:      </th>   <td> 16446</td>  \n",
       "</tr>\n",
       "<tr>\n",
       "  <th>Method:</th>                 <td>MLE</td>       <th>  Df Model:          </th>   <td>     5</td>  \n",
       "</tr>\n",
       "<tr>\n",
       "  <th>Date:</th>            <td>Tue, 12 Mar 2024</td> <th>  Pseudo R-squ.:     </th>   <td>0.04597</td> \n",
       "</tr>\n",
       "<tr>\n",
       "  <th>Time:</th>                <td>17:16:58</td>     <th>  Log-Likelihood:    </th>  <td> -7173.8</td> \n",
       "</tr>\n",
       "<tr>\n",
       "  <th>converged:</th>             <td>True</td>       <th>  LL-Null:           </th>  <td> -7519.5</td> \n",
       "</tr>\n",
       "<tr>\n",
       "  <th>Covariance Type:</th>     <td>nonrobust</td>    <th>  LLR p-value:       </th> <td>3.747e-147</td>\n",
       "</tr>\n",
       "</table>\n",
       "<table class=\"simpletable\">\n",
       "<tr>\n",
       "             <td></td>                <th>coef</th>     <th>std err</th>      <th>z</th>      <th>P>|z|</th>  <th>[0.025</th>    <th>0.975]</th>  \n",
       "</tr>\n",
       "<tr>\n",
       "  <th>Intercept</th>               <td>   -2.6497</td> <td>    0.097</td> <td>  -27.437</td> <td> 0.000</td> <td>   -2.839</td> <td>   -2.460</td>\n",
       "</tr>\n",
       "<tr>\n",
       "  <th>amount_borrowed</th>         <td>   -0.0002</td> <td> 3.41e-05</td> <td>   -6.083</td> <td> 0.000</td> <td>   -0.000</td> <td>   -0.000</td>\n",
       "</tr>\n",
       "<tr>\n",
       "  <th>listing_monthly_payment</th> <td>    0.0066</td> <td>    0.001</td> <td>    6.641</td> <td> 0.000</td> <td>    0.005</td> <td>    0.009</td>\n",
       "</tr>\n",
       "<tr>\n",
       "  <th>borrower_rate</th>           <td>    6.8530</td> <td>    0.567</td> <td>   12.091</td> <td> 0.000</td> <td>    5.742</td> <td>    7.964</td>\n",
       "</tr>\n",
       "<tr>\n",
       "  <th>stated_monthly_income</th>   <td>-1.674e-05</td> <td> 6.23e-06</td> <td>   -2.688</td> <td> 0.007</td> <td>-2.89e-05</td> <td>-4.54e-06</td>\n",
       "</tr>\n",
       "<tr>\n",
       "  <th>dti_wprosper_loan</th>       <td>  9.45e-08</td> <td> 8.23e-08</td> <td>    1.148</td> <td> 0.251</td> <td>-6.68e-08</td> <td> 2.56e-07</td>\n",
       "</tr>\n",
       "</table>"
      ],
      "text/latex": [
       "\\begin{center}\n",
       "\\begin{tabular}{lclc}\n",
       "\\toprule\n",
       "\\textbf{Dep. Variable:}            &    defaulted     & \\textbf{  No. Observations:  } &    16452    \\\\\n",
       "\\textbf{Model:}                    &      Logit       & \\textbf{  Df Residuals:      } &    16446    \\\\\n",
       "\\textbf{Method:}                   &       MLE        & \\textbf{  Df Model:          } &        5    \\\\\n",
       "\\textbf{Date:}                     & Tue, 12 Mar 2024 & \\textbf{  Pseudo R-squ.:     } &  0.04597    \\\\\n",
       "\\textbf{Time:}                     &     17:16:58     & \\textbf{  Log-Likelihood:    } &   -7173.8   \\\\\n",
       "\\textbf{converged:}                &       True       & \\textbf{  LL-Null:           } &   -7519.5   \\\\\n",
       "\\textbf{Covariance Type:}          &    nonrobust     & \\textbf{  LLR p-value:       } & 3.747e-147  \\\\\n",
       "\\bottomrule\n",
       "\\end{tabular}\n",
       "\\begin{tabular}{lcccccc}\n",
       "                                   & \\textbf{coef} & \\textbf{std err} & \\textbf{z} & \\textbf{P$> |$z$|$} & \\textbf{[0.025} & \\textbf{0.975]}  \\\\\n",
       "\\midrule\n",
       "\\textbf{Intercept}                 &      -2.6497  &        0.097     &   -27.437  &         0.000        &       -2.839    &       -2.460     \\\\\n",
       "\\textbf{amount\\_borrowed}          &      -0.0002  &     3.41e-05     &    -6.083  &         0.000        &       -0.000    &       -0.000     \\\\\n",
       "\\textbf{listing\\_monthly\\_payment} &       0.0066  &        0.001     &     6.641  &         0.000        &        0.005    &        0.009     \\\\\n",
       "\\textbf{borrower\\_rate}            &       6.8530  &        0.567     &    12.091  &         0.000        &        5.742    &        7.964     \\\\\n",
       "\\textbf{stated\\_monthly\\_income}   &   -1.674e-05  &     6.23e-06     &    -2.688  &         0.007        &    -2.89e-05    &    -4.54e-06     \\\\\n",
       "\\textbf{dti\\_wprosper\\_loan}       &     9.45e-08  &     8.23e-08     &     1.148  &         0.251        &    -6.68e-08    &     2.56e-07     \\\\\n",
       "\\bottomrule\n",
       "\\end{tabular}\n",
       "%\\caption{Logit Regression Results}\n",
       "\\end{center}"
      ],
      "text/plain": [
       "<class 'statsmodels.iolib.summary.Summary'>\n",
       "\"\"\"\n",
       "                           Logit Regression Results                           \n",
       "==============================================================================\n",
       "Dep. Variable:              defaulted   No. Observations:                16452\n",
       "Model:                          Logit   Df Residuals:                    16446\n",
       "Method:                           MLE   Df Model:                            5\n",
       "Date:                Tue, 12 Mar 2024   Pseudo R-squ.:                 0.04597\n",
       "Time:                        17:16:58   Log-Likelihood:                -7173.8\n",
       "converged:                       True   LL-Null:                       -7519.5\n",
       "Covariance Type:            nonrobust   LLR p-value:                3.747e-147\n",
       "===========================================================================================\n",
       "                              coef    std err          z      P>|z|      [0.025      0.975]\n",
       "-------------------------------------------------------------------------------------------\n",
       "Intercept                  -2.6497      0.097    -27.437      0.000      -2.839      -2.460\n",
       "amount_borrowed            -0.0002   3.41e-05     -6.083      0.000      -0.000      -0.000\n",
       "listing_monthly_payment     0.0066      0.001      6.641      0.000       0.005       0.009\n",
       "borrower_rate               6.8530      0.567     12.091      0.000       5.742       7.964\n",
       "stated_monthly_income   -1.674e-05   6.23e-06     -2.688      0.007   -2.89e-05   -4.54e-06\n",
       "dti_wprosper_loan         9.45e-08   8.23e-08      1.148      0.251   -6.68e-08    2.56e-07\n",
       "===========================================================================================\n",
       "\"\"\""
      ]
     },
     "execution_count": 24,
     "metadata": {},
     "output_type": "execute_result"
    }
   ],
   "source": [
    "result.summary()"
   ]
  },
  {
   "cell_type": "code",
   "execution_count": 25,
   "metadata": {},
   "outputs": [
    {
     "data": {
      "text/plain": [
       "0.04596678592879311"
      ]
     },
     "execution_count": 25,
     "metadata": {},
     "output_type": "execute_result"
    }
   ],
   "source": [
    "# A good in-sample performance measure of the model is the pseudo R-squared\n",
    "result.prsquared"
   ]
  },
  {
   "cell_type": "code",
   "execution_count": 26,
   "metadata": {},
   "outputs": [
    {
     "data": {
      "text/plain": [
       "Intercept                 -2.649679e+00\n",
       "amount_borrowed           -2.073514e-04\n",
       "listing_monthly_payment    6.617323e-03\n",
       "borrower_rate              6.853017e+00\n",
       "stated_monthly_income     -1.674118e-05\n",
       "dti_wprosper_loan          9.450468e-08\n",
       "dtype: float64"
      ]
     },
     "execution_count": 26,
     "metadata": {},
     "output_type": "execute_result"
    }
   ],
   "source": [
    "result.params"
   ]
  },
  {
   "cell_type": "code",
   "execution_count": 27,
   "metadata": {},
   "outputs": [
    {
     "data": {
      "text/plain": [
       "array([0.10718984, 0.10783678, 0.09099424, ..., 0.11993225, 0.08610121,\n",
       "       0.18317056])"
      ]
     },
     "execution_count": 27,
     "metadata": {},
     "output_type": "execute_result"
    }
   ],
   "source": [
    "#predicted probability of default\n",
    "result.predict()"
   ]
  },
  {
   "cell_type": "code",
   "execution_count": 28,
   "metadata": {},
   "outputs": [
    {
     "data": {
      "text/plain": [
       "0.7193000104209959"
      ]
     },
     "execution_count": 28,
     "metadata": {},
     "output_type": "execute_result"
    }
   ],
   "source": [
    "#most likely to default:\n",
    "result.predict().max()"
   ]
  },
  {
   "cell_type": "code",
   "execution_count": 29,
   "metadata": {},
   "outputs": [
    {
     "data": {
      "text/plain": [
       "2.627785824234777e-08"
      ]
     },
     "execution_count": 29,
     "metadata": {},
     "output_type": "execute_result"
    }
   ],
   "source": [
    "#... and least likely to default:\n",
    "result.predict().min()"
   ]
  },
  {
   "cell_type": "code",
   "execution_count": 30,
   "metadata": {},
   "outputs": [
    {
     "data": {
      "text/plain": [
       "0       -2.119773\n",
       "1       -2.113030\n",
       "2       -2.301555\n",
       "3       -1.632913\n",
       "4       -1.806206\n",
       "           ...   \n",
       "16447   -2.052033\n",
       "16448   -1.383538\n",
       "16449   -1.993072\n",
       "16450   -2.362196\n",
       "16451   -1.495013\n",
       "Length: 16452, dtype: float64"
      ]
     },
     "execution_count": 30,
     "metadata": {},
     "output_type": "execute_result"
    }
   ],
   "source": [
    "#fitted values are different - what is this?\n",
    "result.fittedvalues"
   ]
  },
  {
   "cell_type": "code",
   "execution_count": 31,
   "metadata": {},
   "outputs": [
    {
     "data": {
      "text/plain": [
       "-2.1197725540006864"
      ]
     },
     "execution_count": 31,
     "metadata": {},
     "output_type": "execute_result"
    }
   ],
   "source": [
    "#first value\n",
    "result.fittedvalues[0]"
   ]
  },
  {
   "cell_type": "code",
   "execution_count": 32,
   "metadata": {},
   "outputs": [
    {
     "data": {
      "text/plain": [
       "0.10718983516371179"
      ]
     },
     "execution_count": 32,
     "metadata": {},
     "output_type": "execute_result"
    }
   ],
   "source": [
    "#logistic transformation of first value.\n",
    "#... which equals the first loan default prob.\n",
    "1.0/(1.0 + np.exp(-result.fittedvalues[0]))"
   ]
  },
  {
   "cell_type": "code",
   "execution_count": 33,
   "metadata": {},
   "outputs": [
    {
     "data": {
      "image/png": "[encoded data removed]",
      "text/plain": [
       "<Figure size 640x480 with 1 Axes>"
      ]
     },
     "metadata": {},
     "output_type": "display_data"
    }
   ],
   "source": [
    "# Let's plot actual outcome vs. predicted default probability\n",
    "plotdata = loans.copy()\n",
    "plotdata['pred'] = result.predict()\n",
    "fig = plotdata.plot(kind='scatter', x='pred', y='defaulted')"
   ]
  },
  {
   "cell_type": "code",
   "execution_count": 34,
   "metadata": {},
   "outputs": [
    {
     "data": {
      "image/png": "[encoded data removed]",
      "text/plain": [
       "<Figure size 640x480 with 1 Axes>"
      ]
     },
     "metadata": {},
     "output_type": "display_data"
    }
   ],
   "source": [
    "#And let's see how one of the variables affects the predicted default rate graphically\n",
    "plotdata = plotdata[['pred', 'borrower_rate']]\n",
    "fig = plotdata.plot(kind='scatter', x='borrower_rate', y='pred')"
   ]
  },
  {
   "cell_type": "markdown",
   "metadata": {},
   "source": [
    "Optional: merge predicted values back into dataset and see how they line up with loan grades"
   ]
  },
  {
   "cell_type": "code",
   "execution_count": 35,
   "metadata": {},
   "outputs": [
    {
     "data": {
      "text/html": [
       "<div>\n",
       "<style scoped>\n",
       "    .dataframe tbody tr th:only-of-type {\n",
       "        vertical-align: middle;\n",
       "    }\n",
       "\n",
       "    .dataframe tbody tr th {\n",
       "        vertical-align: top;\n",
       "    }\n",
       "\n",
       "    .dataframe thead th {\n",
       "        text-align: right;\n",
       "    }\n",
       "</style>\n",
       "<table border=\"1\" class=\"dataframe\">\n",
       "  <thead>\n",
       "    <tr style=\"text-align: right;\">\n",
       "      <th></th>\n",
       "      <th>loan_number</th>\n",
       "      <th>loan_status_description</th>\n",
       "      <th>origination_date</th>\n",
       "      <th>amount_borrowed</th>\n",
       "      <th>listing_monthly_payment</th>\n",
       "      <th>borrower_rate</th>\n",
       "      <th>stated_monthly_income</th>\n",
       "      <th>dti_wprosper_loan</th>\n",
       "      <th>prosper_rating</th>\n",
       "      <th>occupation</th>\n",
       "      <th>defaulted</th>\n",
       "      <th>pred</th>\n",
       "    </tr>\n",
       "  </thead>\n",
       "  <tbody>\n",
       "    <tr>\n",
       "      <th>0</th>\n",
       "      <td>254360</td>\n",
       "      <td>COMPLETED</td>\n",
       "      <td>2015-01-02</td>\n",
       "      <td>6000.0</td>\n",
       "      <td>188.54</td>\n",
       "      <td>0.0819</td>\n",
       "      <td>2083.3333</td>\n",
       "      <td>0.24</td>\n",
       "      <td>A</td>\n",
       "      <td>NaN</td>\n",
       "      <td>0</td>\n",
       "      <td>0.107190</td>\n",
       "    </tr>\n",
       "    <tr>\n",
       "      <th>1</th>\n",
       "      <td>254920</td>\n",
       "      <td>COMPLETED</td>\n",
       "      <td>2015-01-02</td>\n",
       "      <td>2000.0</td>\n",
       "      <td>62.85</td>\n",
       "      <td>0.0819</td>\n",
       "      <td>1541.6667</td>\n",
       "      <td>0.16</td>\n",
       "      <td>A</td>\n",
       "      <td>Computer Programmer</td>\n",
       "      <td>0</td>\n",
       "      <td>0.107837</td>\n",
       "    </tr>\n",
       "    <tr>\n",
       "      <th>2</th>\n",
       "      <td>254923</td>\n",
       "      <td>COMPLETED</td>\n",
       "      <td>2015-01-02</td>\n",
       "      <td>3000.0</td>\n",
       "      <td>91.58</td>\n",
       "      <td>0.0623</td>\n",
       "      <td>3750.0000</td>\n",
       "      <td>0.27</td>\n",
       "      <td>AA</td>\n",
       "      <td>Retail Management</td>\n",
       "      <td>0</td>\n",
       "      <td>0.090994</td>\n",
       "    </tr>\n",
       "    <tr>\n",
       "      <th>3</th>\n",
       "      <td>254929</td>\n",
       "      <td>COMPLETED</td>\n",
       "      <td>2015-01-02</td>\n",
       "      <td>12000.0</td>\n",
       "      <td>408.56</td>\n",
       "      <td>0.1373</td>\n",
       "      <td>8333.3333</td>\n",
       "      <td>0.19</td>\n",
       "      <td>B</td>\n",
       "      <td>Professional</td>\n",
       "      <td>0</td>\n",
       "      <td>0.163432</td>\n",
       "    </tr>\n",
       "    <tr>\n",
       "      <th>4</th>\n",
       "      <td>254931</td>\n",
       "      <td>COMPLETED</td>\n",
       "      <td>2015-01-02</td>\n",
       "      <td>25000.0</td>\n",
       "      <td>817.88</td>\n",
       "      <td>0.1095</td>\n",
       "      <td>8083.3333</td>\n",
       "      <td>0.30</td>\n",
       "      <td>A</td>\n",
       "      <td>Analyst</td>\n",
       "      <td>0</td>\n",
       "      <td>0.141097</td>\n",
       "    </tr>\n",
       "    <tr>\n",
       "      <th>...</th>\n",
       "      <td>...</td>\n",
       "      <td>...</td>\n",
       "      <td>...</td>\n",
       "      <td>...</td>\n",
       "      <td>...</td>\n",
       "      <td>...</td>\n",
       "      <td>...</td>\n",
       "      <td>...</td>\n",
       "      <td>...</td>\n",
       "      <td>...</td>\n",
       "      <td>...</td>\n",
       "      <td>...</td>\n",
       "    </tr>\n",
       "    <tr>\n",
       "      <th>16447</th>\n",
       "      <td>309527</td>\n",
       "      <td>DEFAULTED</td>\n",
       "      <td>2015-04-14</td>\n",
       "      <td>2000.0</td>\n",
       "      <td>63.95</td>\n",
       "      <td>0.0938</td>\n",
       "      <td>3204.1667</td>\n",
       "      <td>0.26</td>\n",
       "      <td>A</td>\n",
       "      <td>Clerical</td>\n",
       "      <td>1</td>\n",
       "      <td>0.113847</td>\n",
       "    </tr>\n",
       "    <tr>\n",
       "      <th>16448</th>\n",
       "      <td>309524</td>\n",
       "      <td>COMPLETED</td>\n",
       "      <td>2015-04-14</td>\n",
       "      <td>12000.0</td>\n",
       "      <td>418.52</td>\n",
       "      <td>0.1543</td>\n",
       "      <td>4333.3333</td>\n",
       "      <td>0.39</td>\n",
       "      <td>C</td>\n",
       "      <td>Civil Service</td>\n",
       "      <td>0</td>\n",
       "      <td>0.200441</td>\n",
       "    </tr>\n",
       "    <tr>\n",
       "      <th>16449</th>\n",
       "      <td>309518</td>\n",
       "      <td>COMPLETED</td>\n",
       "      <td>2015-04-14</td>\n",
       "      <td>8000.0</td>\n",
       "      <td>256.86</td>\n",
       "      <td>0.0966</td>\n",
       "      <td>2766.1667</td>\n",
       "      <td>0.19</td>\n",
       "      <td>A</td>\n",
       "      <td>Other</td>\n",
       "      <td>0</td>\n",
       "      <td>0.119932</td>\n",
       "    </tr>\n",
       "    <tr>\n",
       "      <th>16450</th>\n",
       "      <td>309617</td>\n",
       "      <td>COMPLETED</td>\n",
       "      <td>2015-04-14</td>\n",
       "      <td>5000.0</td>\n",
       "      <td>152.22</td>\n",
       "      <td>0.0605</td>\n",
       "      <td>5833.3333</td>\n",
       "      <td>0.28</td>\n",
       "      <td>AA</td>\n",
       "      <td>Other</td>\n",
       "      <td>0</td>\n",
       "      <td>0.086101</td>\n",
       "    </tr>\n",
       "    <tr>\n",
       "      <th>16451</th>\n",
       "      <td>309685</td>\n",
       "      <td>COMPLETED</td>\n",
       "      <td>2015-04-14</td>\n",
       "      <td>15000.0</td>\n",
       "      <td>523.14</td>\n",
       "      <td>0.1543</td>\n",
       "      <td>20833.3333</td>\n",
       "      <td>1000000.00</td>\n",
       "      <td>C</td>\n",
       "      <td>Sales - Commission</td>\n",
       "      <td>0</td>\n",
       "      <td>0.183171</td>\n",
       "    </tr>\n",
       "  </tbody>\n",
       "</table>\n",
       "<p>16452 rows × 12 columns</p>\n",
       "</div>"
      ],
      "text/plain": [
       "       loan_number loan_status_description origination_date  amount_borrowed  \\\n",
       "0           254360               COMPLETED       2015-01-02           6000.0   \n",
       "1           254920               COMPLETED       2015-01-02           2000.0   \n",
       "2           254923               COMPLETED       2015-01-02           3000.0   \n",
       "3           254929               COMPLETED       2015-01-02          12000.0   \n",
       "4           254931               COMPLETED       2015-01-02          25000.0   \n",
       "...            ...                     ...              ...              ...   \n",
       "16447       309527               DEFAULTED       2015-04-14           2000.0   \n",
       "16448       309524               COMPLETED       2015-04-14          12000.0   \n",
       "16449       309518               COMPLETED       2015-04-14           8000.0   \n",
       "16450       309617               COMPLETED       2015-04-14           5000.0   \n",
       "16451       309685               COMPLETED       2015-04-14          15000.0   \n",
       "\n",
       "       listing_monthly_payment  borrower_rate  stated_monthly_income  \\\n",
       "0                       188.54         0.0819              2083.3333   \n",
       "1                        62.85         0.0819              1541.6667   \n",
       "2                        91.58         0.0623              3750.0000   \n",
       "3                       408.56         0.1373              8333.3333   \n",
       "4                       817.88         0.1095              8083.3333   \n",
       "...                        ...            ...                    ...   \n",
       "16447                    63.95         0.0938              3204.1667   \n",
       "16448                   418.52         0.1543              4333.3333   \n",
       "16449                   256.86         0.0966              2766.1667   \n",
       "16450                   152.22         0.0605              5833.3333   \n",
       "16451                   523.14         0.1543             20833.3333   \n",
       "\n",
       "       dti_wprosper_loan prosper_rating           occupation  defaulted  \\\n",
       "0                   0.24              A                  NaN          0   \n",
       "1                   0.16              A  Computer Programmer          0   \n",
       "2                   0.27             AA    Retail Management          0   \n",
       "3                   0.19              B         Professional          0   \n",
       "4                   0.30              A              Analyst          0   \n",
       "...                  ...            ...                  ...        ...   \n",
       "16447               0.26              A             Clerical          1   \n",
       "16448               0.39              C        Civil Service          0   \n",
       "16449               0.19              A                Other          0   \n",
       "16450               0.28             AA                Other          0   \n",
       "16451         1000000.00              C   Sales - Commission          0   \n",
       "\n",
       "           pred  \n",
       "0      0.107190  \n",
       "1      0.107837  \n",
       "2      0.090994  \n",
       "3      0.163432  \n",
       "4      0.141097  \n",
       "...         ...  \n",
       "16447  0.113847  \n",
       "16448  0.200441  \n",
       "16449  0.119932  \n",
       "16450  0.086101  \n",
       "16451  0.183171  \n",
       "\n",
       "[16452 rows x 12 columns]"
      ]
     },
     "execution_count": 35,
     "metadata": {},
     "output_type": "execute_result"
    }
   ],
   "source": [
    "#How do the predicted values line up with the Prosper loan grades?\n",
    "loans2 = loans.copy()\n",
    "loans2['pred'] = result.predict()\n",
    "loans2"
   ]
  },
  {
   "cell_type": "code",
   "execution_count": 36,
   "metadata": {},
   "outputs": [
    {
     "data": {
      "text/html": [
       "<div>\n",
       "<style scoped>\n",
       "    .dataframe tbody tr th:only-of-type {\n",
       "        vertical-align: middle;\n",
       "    }\n",
       "\n",
       "    .dataframe tbody tr th {\n",
       "        vertical-align: top;\n",
       "    }\n",
       "\n",
       "    .dataframe thead th {\n",
       "        text-align: right;\n",
       "    }\n",
       "</style>\n",
       "<table border=\"1\" class=\"dataframe\">\n",
       "  <thead>\n",
       "    <tr style=\"text-align: right;\">\n",
       "      <th></th>\n",
       "      <th>count</th>\n",
       "      <th>mean</th>\n",
       "      <th>std</th>\n",
       "      <th>min</th>\n",
       "      <th>25%</th>\n",
       "      <th>50%</th>\n",
       "      <th>75%</th>\n",
       "      <th>max</th>\n",
       "    </tr>\n",
       "    <tr>\n",
       "      <th>prosper_rating</th>\n",
       "      <th></th>\n",
       "      <th></th>\n",
       "      <th></th>\n",
       "      <th></th>\n",
       "      <th></th>\n",
       "      <th></th>\n",
       "      <th></th>\n",
       "      <th></th>\n",
       "    </tr>\n",
       "  </thead>\n",
       "  <tbody>\n",
       "    <tr>\n",
       "      <th>AA</th>\n",
       "      <td>2434.0</td>\n",
       "      <td>0.090374</td>\n",
       "      <td>0.012897</td>\n",
       "      <td>3.581629e-02</td>\n",
       "      <td>0.084104</td>\n",
       "      <td>0.089573</td>\n",
       "      <td>0.095506</td>\n",
       "      <td>0.236366</td>\n",
       "    </tr>\n",
       "    <tr>\n",
       "      <th>A</th>\n",
       "      <td>4304.0</td>\n",
       "      <td>0.115639</td>\n",
       "      <td>0.017970</td>\n",
       "      <td>4.738218e-02</td>\n",
       "      <td>0.104566</td>\n",
       "      <td>0.114839</td>\n",
       "      <td>0.124396</td>\n",
       "      <td>0.409602</td>\n",
       "    </tr>\n",
       "    <tr>\n",
       "      <th>B</th>\n",
       "      <td>3745.0</td>\n",
       "      <td>0.154200</td>\n",
       "      <td>0.025790</td>\n",
       "      <td>4.946044e-03</td>\n",
       "      <td>0.138899</td>\n",
       "      <td>0.150283</td>\n",
       "      <td>0.164450</td>\n",
       "      <td>0.719300</td>\n",
       "    </tr>\n",
       "    <tr>\n",
       "      <th>C</th>\n",
       "      <td>3467.0</td>\n",
       "      <td>0.210333</td>\n",
       "      <td>0.038454</td>\n",
       "      <td>2.627786e-08</td>\n",
       "      <td>0.181902</td>\n",
       "      <td>0.201906</td>\n",
       "      <td>0.231551</td>\n",
       "      <td>0.533812</td>\n",
       "    </tr>\n",
       "    <tr>\n",
       "      <th>D</th>\n",
       "      <td>1610.0</td>\n",
       "      <td>0.291563</td>\n",
       "      <td>0.061364</td>\n",
       "      <td>6.949065e-02</td>\n",
       "      <td>0.245238</td>\n",
       "      <td>0.277550</td>\n",
       "      <td>0.328314</td>\n",
       "      <td>0.491148</td>\n",
       "    </tr>\n",
       "    <tr>\n",
       "      <th>E</th>\n",
       "      <td>648.0</td>\n",
       "      <td>0.339826</td>\n",
       "      <td>0.042661</td>\n",
       "      <td>2.271854e-01</td>\n",
       "      <td>0.308169</td>\n",
       "      <td>0.334119</td>\n",
       "      <td>0.371059</td>\n",
       "      <td>0.468624</td>\n",
       "    </tr>\n",
       "    <tr>\n",
       "      <th>HR</th>\n",
       "      <td>244.0</td>\n",
       "      <td>0.389313</td>\n",
       "      <td>0.038143</td>\n",
       "      <td>3.178835e-03</td>\n",
       "      <td>0.370502</td>\n",
       "      <td>0.389908</td>\n",
       "      <td>0.411220</td>\n",
       "      <td>0.460848</td>\n",
       "    </tr>\n",
       "  </tbody>\n",
       "</table>\n",
       "</div>"
      ],
      "text/plain": [
       "                 count      mean       std           min       25%       50%  \\\n",
       "prosper_rating                                                                 \n",
       "AA              2434.0  0.090374  0.012897  3.581629e-02  0.084104  0.089573   \n",
       "A               4304.0  0.115639  0.017970  4.738218e-02  0.104566  0.114839   \n",
       "B               3745.0  0.154200  0.025790  4.946044e-03  0.138899  0.150283   \n",
       "C               3467.0  0.210333  0.038454  2.627786e-08  0.181902  0.201906   \n",
       "D               1610.0  0.291563  0.061364  6.949065e-02  0.245238  0.277550   \n",
       "E                648.0  0.339826  0.042661  2.271854e-01  0.308169  0.334119   \n",
       "HR               244.0  0.389313  0.038143  3.178835e-03  0.370502  0.389908   \n",
       "\n",
       "                     75%       max  \n",
       "prosper_rating                      \n",
       "AA              0.095506  0.236366  \n",
       "A               0.124396  0.409602  \n",
       "B               0.164450  0.719300  \n",
       "C               0.231551  0.533812  \n",
       "D               0.328314  0.491148  \n",
       "E               0.371059  0.468624  \n",
       "HR              0.411220  0.460848  "
      ]
     },
     "execution_count": 36,
     "metadata": {},
     "output_type": "execute_result"
    }
   ],
   "source": [
    "loans2 = loans2.sort_values('prosper_rating')\n",
    "loans2.groupby('prosper_rating')['pred'].describe()"
   ]
  },
  {
   "cell_type": "code",
   "execution_count": 37,
   "metadata": {},
   "outputs": [
    {
     "data": {
      "text/html": [
       "<div>\n",
       "<style scoped>\n",
       "    .dataframe tbody tr th:only-of-type {\n",
       "        vertical-align: middle;\n",
       "    }\n",
       "\n",
       "    .dataframe tbody tr th {\n",
       "        vertical-align: top;\n",
       "    }\n",
       "\n",
       "    .dataframe thead th {\n",
       "        text-align: right;\n",
       "    }\n",
       "</style>\n",
       "<table border=\"1\" class=\"dataframe\">\n",
       "  <thead>\n",
       "    <tr style=\"text-align: right;\">\n",
       "      <th></th>\n",
       "      <th>loan_number</th>\n",
       "      <th>loan_status_description</th>\n",
       "      <th>origination_date</th>\n",
       "      <th>amount_borrowed</th>\n",
       "      <th>listing_monthly_payment</th>\n",
       "      <th>borrower_rate</th>\n",
       "      <th>stated_monthly_income</th>\n",
       "      <th>dti_wprosper_loan</th>\n",
       "      <th>prosper_rating</th>\n",
       "      <th>occupation</th>\n",
       "      <th>defaulted</th>\n",
       "      <th>pred</th>\n",
       "    </tr>\n",
       "  </thead>\n",
       "  <tbody>\n",
       "  </tbody>\n",
       "</table>\n",
       "</div>"
      ],
      "text/plain": [
       "Empty DataFrame\n",
       "Columns: [loan_number, loan_status_description, origination_date, amount_borrowed, listing_monthly_payment, borrower_rate, stated_monthly_income, dti_wprosper_loan, prosper_rating, occupation, defaulted, pred]\n",
       "Index: []"
      ]
     },
     "execution_count": 37,
     "metadata": {},
     "output_type": "execute_result"
    }
   ],
   "source": [
    "loans2.loc[(loans2['prosper_rating']=='AA') & (loans2['pred']>.33)]"
   ]
  },
  {
   "cell_type": "code",
   "execution_count": 38,
   "metadata": {},
   "outputs": [
    {
     "data": {
      "text/plain": [
       "0.30401234567901236"
      ]
     },
     "execution_count": 38,
     "metadata": {},
     "output_type": "execute_result"
    }
   ],
   "source": [
    "#try some diffeent thresholds to see if our model predicte E loans better than just using the fact that they are E loans\n",
    "#baseline\n",
    "loans2.loc[loans2['prosper_rating']=='E']['defaulted'].mean()"
   ]
  },
  {
   "cell_type": "code",
   "execution_count": 39,
   "metadata": {},
   "outputs": [
    {
     "data": {
      "text/plain": [
       "0.28431372549019607"
      ]
     },
     "execution_count": 39,
     "metadata": {},
     "output_type": "execute_result"
    }
   ],
   "source": [
    "loans2.loc[(loans2['prosper_rating']=='E')&(loans2['pred']<=0.294515)]['defaulted'].mean()"
   ]
  },
  {
   "cell_type": "code",
   "execution_count": 40,
   "metadata": {},
   "outputs": [
    {
     "data": {
      "text/plain": [
       "0.25806451612903225"
      ]
     },
     "execution_count": 40,
     "metadata": {},
     "output_type": "execute_result"
    }
   ],
   "source": [
    "loans2.loc[(loans2['prosper_rating']=='E')&(loans2['pred']>=0.388864)]['defaulted'].mean()"
   ]
  },
  {
   "cell_type": "code",
   "execution_count": 41,
   "metadata": {},
   "outputs": [],
   "source": [
    "#save model to pickle file\n",
    "result.save('Logit1.pkl', remove_data=True)"
   ]
  },
  {
   "cell_type": "markdown",
   "metadata": {},
   "source": [
    "## Logit model: version 2"
   ]
  },
  {
   "cell_type": "markdown",
   "metadata": {},
   "source": [
    "Add some calculated variables to version 1"
   ]
  },
  {
   "cell_type": "code",
   "execution_count": 42,
   "metadata": {},
   "outputs": [],
   "source": [
    "#maybe the ratio of loan payment to income works better that the loan payment\n",
    "loans.loc[loans['stated_monthly_income']==0, 'stated_monthly_income'] = 1.0\n",
    "loans['pti'] = loans['listing_monthly_payment']/loans['stated_monthly_income']"
   ]
  },
  {
   "cell_type": "code",
   "execution_count": 43,
   "metadata": {},
   "outputs": [
    {
     "data": {
      "text/plain": [
       "count    16452.000000\n",
       "mean         0.084334\n",
       "std          0.912255\n",
       "min          0.000075\n",
       "25%          0.040054\n",
       "50%          0.066870\n",
       "75%          0.101848\n",
       "max         91.330000\n",
       "Name: pti, dtype: float64"
      ]
     },
     "execution_count": 43,
     "metadata": {},
     "output_type": "execute_result"
    }
   ],
   "source": [
    "loans['pti'].describe()"
   ]
  },
  {
   "cell_type": "code",
   "execution_count": 44,
   "metadata": {},
   "outputs": [
    {
     "data": {
      "text/plain": [
       "occupation\n",
       "Other                                3557\n",
       "Professional                         1702\n",
       "Executive                             626\n",
       "Teacher                               525\n",
       "Clerical                              508\n",
       "Nurse (RN)                            492\n",
       "Analyst                               469\n",
       "Skilled Labor                         465\n",
       "Computer Programmer                   429\n",
       "Sales - Commission                    429\n",
       "Construction                          402\n",
       "Accountant/CPA                        397\n",
       "Retail Management                     387\n",
       "Sales - Retail                        380\n",
       "Truck Driver                          376\n",
       "Administrative Assistant              363\n",
       "Police Officer/Correction Officer     270\n",
       "Laborer                               261\n",
       "Food Service Management               242\n",
       "Food Service                          231\n",
       "Name: count, dtype: int64"
      ]
     },
     "execution_count": 44,
     "metadata": {},
     "output_type": "execute_result"
    }
   ],
   "source": [
    "#un-ordered categorical variable example: occupation\n",
    "loans['occupation'].value_counts().head(20)"
   ]
  },
  {
   "cell_type": "code",
   "execution_count": 45,
   "metadata": {},
   "outputs": [],
   "source": [
    "occ_dummies = pd.get_dummies(loans['occupation'])"
   ]
  },
  {
   "cell_type": "code",
   "execution_count": 46,
   "metadata": {},
   "outputs": [],
   "source": [
    "loans = pd.merge(loans, occ_dummies, how='inner', left_index=True, right_index=True)"
   ]
  },
  {
   "cell_type": "code",
   "execution_count": 47,
   "metadata": {},
   "outputs": [
    {
     "data": {
      "text/html": [
       "<div>\n",
       "<style scoped>\n",
       "    .dataframe tbody tr th:only-of-type {\n",
       "        vertical-align: middle;\n",
       "    }\n",
       "\n",
       "    .dataframe tbody tr th {\n",
       "        vertical-align: top;\n",
       "    }\n",
       "\n",
       "    .dataframe thead th {\n",
       "        text-align: right;\n",
       "    }\n",
       "</style>\n",
       "<table border=\"1\" class=\"dataframe\">\n",
       "  <thead>\n",
       "    <tr style=\"text-align: right;\">\n",
       "      <th></th>\n",
       "      <th>loan_number</th>\n",
       "      <th>loan_status_description</th>\n",
       "      <th>origination_date</th>\n",
       "      <th>amount_borrowed</th>\n",
       "      <th>listing_monthly_payment</th>\n",
       "      <th>borrower_rate</th>\n",
       "      <th>stated_monthly_income</th>\n",
       "      <th>dti_wprosper_loan</th>\n",
       "      <th>prosper_rating</th>\n",
       "      <th>occupation</th>\n",
       "      <th>...</th>\n",
       "      <th>Student - Community College</th>\n",
       "      <th>Student - Technical School</th>\n",
       "      <th>Teacher</th>\n",
       "      <th>Teacher's Aide</th>\n",
       "      <th>Tradesman - Carpenter</th>\n",
       "      <th>Tradesman - Electrician</th>\n",
       "      <th>Tradesman - Mechanic</th>\n",
       "      <th>Tradesman - Plumber</th>\n",
       "      <th>Truck Driver</th>\n",
       "      <th>Waiter/Waitress</th>\n",
       "    </tr>\n",
       "  </thead>\n",
       "  <tbody>\n",
       "    <tr>\n",
       "      <th>0</th>\n",
       "      <td>254360</td>\n",
       "      <td>COMPLETED</td>\n",
       "      <td>2015-01-02</td>\n",
       "      <td>6000.0</td>\n",
       "      <td>188.54</td>\n",
       "      <td>0.0819</td>\n",
       "      <td>2083.3333</td>\n",
       "      <td>0.24</td>\n",
       "      <td>A</td>\n",
       "      <td>NaN</td>\n",
       "      <td>...</td>\n",
       "      <td>False</td>\n",
       "      <td>False</td>\n",
       "      <td>False</td>\n",
       "      <td>False</td>\n",
       "      <td>False</td>\n",
       "      <td>False</td>\n",
       "      <td>False</td>\n",
       "      <td>False</td>\n",
       "      <td>False</td>\n",
       "      <td>False</td>\n",
       "    </tr>\n",
       "    <tr>\n",
       "      <th>1</th>\n",
       "      <td>254920</td>\n",
       "      <td>COMPLETED</td>\n",
       "      <td>2015-01-02</td>\n",
       "      <td>2000.0</td>\n",
       "      <td>62.85</td>\n",
       "      <td>0.0819</td>\n",
       "      <td>1541.6667</td>\n",
       "      <td>0.16</td>\n",
       "      <td>A</td>\n",
       "      <td>Computer Programmer</td>\n",
       "      <td>...</td>\n",
       "      <td>False</td>\n",
       "      <td>False</td>\n",
       "      <td>False</td>\n",
       "      <td>False</td>\n",
       "      <td>False</td>\n",
       "      <td>False</td>\n",
       "      <td>False</td>\n",
       "      <td>False</td>\n",
       "      <td>False</td>\n",
       "      <td>False</td>\n",
       "    </tr>\n",
       "    <tr>\n",
       "      <th>2</th>\n",
       "      <td>254923</td>\n",
       "      <td>COMPLETED</td>\n",
       "      <td>2015-01-02</td>\n",
       "      <td>3000.0</td>\n",
       "      <td>91.58</td>\n",
       "      <td>0.0623</td>\n",
       "      <td>3750.0000</td>\n",
       "      <td>0.27</td>\n",
       "      <td>AA</td>\n",
       "      <td>Retail Management</td>\n",
       "      <td>...</td>\n",
       "      <td>False</td>\n",
       "      <td>False</td>\n",
       "      <td>False</td>\n",
       "      <td>False</td>\n",
       "      <td>False</td>\n",
       "      <td>False</td>\n",
       "      <td>False</td>\n",
       "      <td>False</td>\n",
       "      <td>False</td>\n",
       "      <td>False</td>\n",
       "    </tr>\n",
       "    <tr>\n",
       "      <th>3</th>\n",
       "      <td>254929</td>\n",
       "      <td>COMPLETED</td>\n",
       "      <td>2015-01-02</td>\n",
       "      <td>12000.0</td>\n",
       "      <td>408.56</td>\n",
       "      <td>0.1373</td>\n",
       "      <td>8333.3333</td>\n",
       "      <td>0.19</td>\n",
       "      <td>B</td>\n",
       "      <td>Professional</td>\n",
       "      <td>...</td>\n",
       "      <td>False</td>\n",
       "      <td>False</td>\n",
       "      <td>False</td>\n",
       "      <td>False</td>\n",
       "      <td>False</td>\n",
       "      <td>False</td>\n",
       "      <td>False</td>\n",
       "      <td>False</td>\n",
       "      <td>False</td>\n",
       "      <td>False</td>\n",
       "    </tr>\n",
       "    <tr>\n",
       "      <th>4</th>\n",
       "      <td>254931</td>\n",
       "      <td>COMPLETED</td>\n",
       "      <td>2015-01-02</td>\n",
       "      <td>25000.0</td>\n",
       "      <td>817.88</td>\n",
       "      <td>0.1095</td>\n",
       "      <td>8083.3333</td>\n",
       "      <td>0.30</td>\n",
       "      <td>A</td>\n",
       "      <td>Analyst</td>\n",
       "      <td>...</td>\n",
       "      <td>False</td>\n",
       "      <td>False</td>\n",
       "      <td>False</td>\n",
       "      <td>False</td>\n",
       "      <td>False</td>\n",
       "      <td>False</td>\n",
       "      <td>False</td>\n",
       "      <td>False</td>\n",
       "      <td>False</td>\n",
       "      <td>False</td>\n",
       "    </tr>\n",
       "  </tbody>\n",
       "</table>\n",
       "<p>5 rows × 83 columns</p>\n",
       "</div>"
      ],
      "text/plain": [
       "   loan_number loan_status_description origination_date  amount_borrowed  \\\n",
       "0       254360               COMPLETED       2015-01-02           6000.0   \n",
       "1       254920               COMPLETED       2015-01-02           2000.0   \n",
       "2       254923               COMPLETED       2015-01-02           3000.0   \n",
       "3       254929               COMPLETED       2015-01-02          12000.0   \n",
       "4       254931               COMPLETED       2015-01-02          25000.0   \n",
       "\n",
       "   listing_monthly_payment  borrower_rate  stated_monthly_income  \\\n",
       "0                   188.54         0.0819              2083.3333   \n",
       "1                    62.85         0.0819              1541.6667   \n",
       "2                    91.58         0.0623              3750.0000   \n",
       "3                   408.56         0.1373              8333.3333   \n",
       "4                   817.88         0.1095              8083.3333   \n",
       "\n",
       "   dti_wprosper_loan prosper_rating           occupation  ...  \\\n",
       "0               0.24              A                  NaN  ...   \n",
       "1               0.16              A  Computer Programmer  ...   \n",
       "2               0.27             AA    Retail Management  ...   \n",
       "3               0.19              B         Professional  ...   \n",
       "4               0.30              A              Analyst  ...   \n",
       "\n",
       "   Student - Community College  Student - Technical School  Teacher  \\\n",
       "0                        False                       False    False   \n",
       "1                        False                       False    False   \n",
       "2                        False                       False    False   \n",
       "3                        False                       False    False   \n",
       "4                        False                       False    False   \n",
       "\n",
       "   Teacher's Aide  Tradesman - Carpenter  Tradesman - Electrician  \\\n",
       "0           False                  False                    False   \n",
       "1           False                  False                    False   \n",
       "2           False                  False                    False   \n",
       "3           False                  False                    False   \n",
       "4           False                  False                    False   \n",
       "\n",
       "   Tradesman - Mechanic  Tradesman - Plumber  Truck Driver  Waiter/Waitress  \n",
       "0                 False                False         False            False  \n",
       "1                 False                False         False            False  \n",
       "2                 False                False         False            False  \n",
       "3                 False                False         False            False  \n",
       "4                 False                False         False            False  \n",
       "\n",
       "[5 rows x 83 columns]"
      ]
     },
     "execution_count": 47,
     "metadata": {},
     "output_type": "execute_result"
    }
   ],
   "source": [
    "loans.head()"
   ]
  },
  {
   "cell_type": "code",
   "execution_count": 48,
   "metadata": {},
   "outputs": [
    {
     "data": {
      "text/plain": [
       "Index(['loan_number', 'loan_status_description', 'origination_date',\n",
       "       'amount_borrowed', 'listing_monthly_payment', 'borrower_rate',\n",
       "       'stated_monthly_income', 'dti_wprosper_loan', 'prosper_rating',\n",
       "       'occupation', 'defaulted', 'pti', 'Accountant/CPA',\n",
       "       'Administrative Assistant', 'Analyst', 'Architect', 'Attorney',\n",
       "       'Biologist', 'Bus Driver', 'Car Dealer', 'Chemist', 'Civil Service',\n",
       "       'Clergy', 'Clerical', 'Computer Programmer', 'Construction', 'Dentist',\n",
       "       'Doctor', 'Engineer - Chemical', 'Engineer - Electrical',\n",
       "       'Engineer - Mechanical', 'Executive', 'Fireman', 'Flight Attendant',\n",
       "       'Food Service', 'Food Service Management', 'Homemaker', 'Investor',\n",
       "       'Judge', 'Laborer', 'Landscaping', 'Medical Technician',\n",
       "       'Military Enlisted', 'Military Officer', 'Nurse (LPN)', 'Nurse (RN)',\n",
       "       'Nurse - Licensed Practical Nurse (LPN)',\n",
       "       'Nurse - Registered Nurse (RN)', 'Nurse's Aide', 'Other', 'Pharmacist',\n",
       "       'Pilot - Private/Commercial', 'Police Officer/Correction Officer',\n",
       "       'Postal Service', 'Principal',\n",
       "       'Profession that is not part of this list', 'Professional', 'Professor',\n",
       "       'Psychologist', 'Realtor', 'Religious', 'Retail Management',\n",
       "       'Sales - Commission', 'Sales - Retail', 'Scientist',\n",
       "       'Secretary/Administrative Assistant', 'Skilled Labor', 'Social Worker',\n",
       "       'Student - College Freshman', 'Student - College Graduate Student',\n",
       "       'Student - College Junior', 'Student - College Senior',\n",
       "       'Student - College Sophomore', 'Student - Community College',\n",
       "       'Student - Technical School', 'Teacher', 'Teacher's Aide',\n",
       "       'Tradesman - Carpenter', 'Tradesman - Electrician',\n",
       "       'Tradesman - Mechanic', 'Tradesman - Plumber', 'Truck Driver',\n",
       "       'Waiter/Waitress'],\n",
       "      dtype='object')"
      ]
     },
     "execution_count": 48,
     "metadata": {},
     "output_type": "execute_result"
    }
   ],
   "source": [
    "loans.columns"
   ]
  },
  {
   "cell_type": "code",
   "execution_count": 49,
   "metadata": {},
   "outputs": [
    {
     "name": "stdout",
     "output_type": "stream",
     "text": [
      "Optimization terminated successfully.\n",
      "         Current function value: 0.435650\n",
      "         Iterations 7\n"
     ]
    }
   ],
   "source": [
    "#specify and fit model\n",
    "result = smf.logit('defaulted ~ amount_borrowed + listing_monthly_payment + borrower_rate + \\\n",
    "                    stated_monthly_income + dti_wprosper_loan + pti + Executive + Other + Clerical +\\\n",
    "                    Construction + Teacher', loans).fit()"
   ]
  },
  {
   "cell_type": "code",
   "execution_count": 50,
   "metadata": {},
   "outputs": [
    {
     "data": {
      "text/html": [
       "<table class=\"simpletable\">\n",
       "<caption>Logit Regression Results</caption>\n",
       "<tr>\n",
       "  <th>Dep. Variable:</th>       <td>defaulted</td>    <th>  No. Observations:  </th>   <td> 16452</td>  \n",
       "</tr>\n",
       "<tr>\n",
       "  <th>Model:</th>                 <td>Logit</td>      <th>  Df Residuals:      </th>   <td> 16440</td>  \n",
       "</tr>\n",
       "<tr>\n",
       "  <th>Method:</th>                 <td>MLE</td>       <th>  Df Model:          </th>   <td>    11</td>  \n",
       "</tr>\n",
       "<tr>\n",
       "  <th>Date:</th>            <td>Tue, 12 Mar 2024</td> <th>  Pseudo R-squ.:     </th>   <td>0.04684</td> \n",
       "</tr>\n",
       "<tr>\n",
       "  <th>Time:</th>                <td>17:17:01</td>     <th>  Log-Likelihood:    </th>  <td> -7167.3</td> \n",
       "</tr>\n",
       "<tr>\n",
       "  <th>converged:</th>             <td>True</td>       <th>  LL-Null:           </th>  <td> -7519.5</td> \n",
       "</tr>\n",
       "<tr>\n",
       "  <th>Covariance Type:</th>     <td>nonrobust</td>    <th>  LLR p-value:       </th> <td>6.271e-144</td>\n",
       "</tr>\n",
       "</table>\n",
       "<table class=\"simpletable\">\n",
       "<tr>\n",
       "             <td></td>                <th>coef</th>     <th>std err</th>      <th>z</th>      <th>P>|z|</th>  <th>[0.025</th>    <th>0.975]</th>  \n",
       "</tr>\n",
       "<tr>\n",
       "  <th>Intercept</th>               <td>   -2.6125</td> <td>    0.098</td> <td>  -26.622</td> <td> 0.000</td> <td>   -2.805</td> <td>   -2.420</td>\n",
       "</tr>\n",
       "<tr>\n",
       "  <th>Executive[T.True]</th>       <td>   -0.1708</td> <td>    0.121</td> <td>   -1.415</td> <td> 0.157</td> <td>   -0.407</td> <td>    0.066</td>\n",
       "</tr>\n",
       "<tr>\n",
       "  <th>Other[T.True]</th>           <td>   -0.1386</td> <td>    0.054</td> <td>   -2.589</td> <td> 0.010</td> <td>   -0.244</td> <td>   -0.034</td>\n",
       "</tr>\n",
       "<tr>\n",
       "  <th>Clerical[T.True]</th>        <td>    0.0708</td> <td>    0.120</td> <td>    0.589</td> <td> 0.556</td> <td>   -0.165</td> <td>    0.306</td>\n",
       "</tr>\n",
       "<tr>\n",
       "  <th>Construction[T.True]</th>    <td>   -0.1236</td> <td>    0.140</td> <td>   -0.884</td> <td> 0.377</td> <td>   -0.398</td> <td>    0.151</td>\n",
       "</tr>\n",
       "<tr>\n",
       "  <th>Teacher[T.True]</th>         <td>   -0.2787</td> <td>    0.132</td> <td>   -2.110</td> <td> 0.035</td> <td>   -0.537</td> <td>   -0.020</td>\n",
       "</tr>\n",
       "<tr>\n",
       "  <th>amount_borrowed</th>         <td>   -0.0002</td> <td> 3.41e-05</td> <td>   -6.123</td> <td> 0.000</td> <td>   -0.000</td> <td>   -0.000</td>\n",
       "</tr>\n",
       "<tr>\n",
       "  <th>listing_monthly_payment</th> <td>    0.0067</td> <td>    0.001</td> <td>    6.689</td> <td> 0.000</td> <td>    0.005</td> <td>    0.009</td>\n",
       "</tr>\n",
       "<tr>\n",
       "  <th>borrower_rate</th>           <td>    6.8401</td> <td>    0.567</td> <td>   12.060</td> <td> 0.000</td> <td>    5.729</td> <td>    7.952</td>\n",
       "</tr>\n",
       "<tr>\n",
       "  <th>stated_monthly_income</th>   <td>-1.587e-05</td> <td> 6.39e-06</td> <td>   -2.484</td> <td> 0.013</td> <td>-2.84e-05</td> <td>-3.35e-06</td>\n",
       "</tr>\n",
       "<tr>\n",
       "  <th>dti_wprosper_loan</th>       <td> 1.106e-07</td> <td> 8.29e-08</td> <td>    1.333</td> <td> 0.182</td> <td> -5.2e-08</td> <td> 2.73e-07</td>\n",
       "</tr>\n",
       "<tr>\n",
       "  <th>pti</th>                     <td>   -0.0082</td> <td>    0.031</td> <td>   -0.260</td> <td> 0.795</td> <td>   -0.070</td> <td>    0.053</td>\n",
       "</tr>\n",
       "</table>"
      ],
      "text/latex": [
       "\\begin{center}\n",
       "\\begin{tabular}{lclc}\n",
       "\\toprule\n",
       "\\textbf{Dep. Variable:}            &    defaulted     & \\textbf{  No. Observations:  } &    16452    \\\\\n",
       "\\textbf{Model:}                    &      Logit       & \\textbf{  Df Residuals:      } &    16440    \\\\\n",
       "\\textbf{Method:}                   &       MLE        & \\textbf{  Df Model:          } &       11    \\\\\n",
       "\\textbf{Date:}                     & Tue, 12 Mar 2024 & \\textbf{  Pseudo R-squ.:     } &  0.04684    \\\\\n",
       "\\textbf{Time:}                     &     17:17:01     & \\textbf{  Log-Likelihood:    } &   -7167.3   \\\\\n",
       "\\textbf{converged:}                &       True       & \\textbf{  LL-Null:           } &   -7519.5   \\\\\n",
       "\\textbf{Covariance Type:}          &    nonrobust     & \\textbf{  LLR p-value:       } & 6.271e-144  \\\\\n",
       "\\bottomrule\n",
       "\\end{tabular}\n",
       "\\begin{tabular}{lcccccc}\n",
       "                                   & \\textbf{coef} & \\textbf{std err} & \\textbf{z} & \\textbf{P$> |$z$|$} & \\textbf{[0.025} & \\textbf{0.975]}  \\\\\n",
       "\\midrule\n",
       "\\textbf{Intercept}                 &      -2.6125  &        0.098     &   -26.622  &         0.000        &       -2.805    &       -2.420     \\\\\n",
       "\\textbf{Executive[T.True]}         &      -0.1708  &        0.121     &    -1.415  &         0.157        &       -0.407    &        0.066     \\\\\n",
       "\\textbf{Other[T.True]}             &      -0.1386  &        0.054     &    -2.589  &         0.010        &       -0.244    &       -0.034     \\\\\n",
       "\\textbf{Clerical[T.True]}          &       0.0708  &        0.120     &     0.589  &         0.556        &       -0.165    &        0.306     \\\\\n",
       "\\textbf{Construction[T.True]}      &      -0.1236  &        0.140     &    -0.884  &         0.377        &       -0.398    &        0.151     \\\\\n",
       "\\textbf{Teacher[T.True]}           &      -0.2787  &        0.132     &    -2.110  &         0.035        &       -0.537    &       -0.020     \\\\\n",
       "\\textbf{amount\\_borrowed}          &      -0.0002  &     3.41e-05     &    -6.123  &         0.000        &       -0.000    &       -0.000     \\\\\n",
       "\\textbf{listing\\_monthly\\_payment} &       0.0067  &        0.001     &     6.689  &         0.000        &        0.005    &        0.009     \\\\\n",
       "\\textbf{borrower\\_rate}            &       6.8401  &        0.567     &    12.060  &         0.000        &        5.729    &        7.952     \\\\\n",
       "\\textbf{stated\\_monthly\\_income}   &   -1.587e-05  &     6.39e-06     &    -2.484  &         0.013        &    -2.84e-05    &    -3.35e-06     \\\\\n",
       "\\textbf{dti\\_wprosper\\_loan}       &    1.106e-07  &     8.29e-08     &     1.333  &         0.182        &     -5.2e-08    &     2.73e-07     \\\\\n",
       "\\textbf{pti}                       &      -0.0082  &        0.031     &    -0.260  &         0.795        &       -0.070    &        0.053     \\\\\n",
       "\\bottomrule\n",
       "\\end{tabular}\n",
       "%\\caption{Logit Regression Results}\n",
       "\\end{center}"
      ],
      "text/plain": [
       "<class 'statsmodels.iolib.summary.Summary'>\n",
       "\"\"\"\n",
       "                           Logit Regression Results                           \n",
       "==============================================================================\n",
       "Dep. Variable:              defaulted   No. Observations:                16452\n",
       "Model:                          Logit   Df Residuals:                    16440\n",
       "Method:                           MLE   Df Model:                           11\n",
       "Date:                Tue, 12 Mar 2024   Pseudo R-squ.:                 0.04684\n",
       "Time:                        17:17:01   Log-Likelihood:                -7167.3\n",
       "converged:                       True   LL-Null:                       -7519.5\n",
       "Covariance Type:            nonrobust   LLR p-value:                6.271e-144\n",
       "===========================================================================================\n",
       "                              coef    std err          z      P>|z|      [0.025      0.975]\n",
       "-------------------------------------------------------------------------------------------\n",
       "Intercept                  -2.6125      0.098    -26.622      0.000      -2.805      -2.420\n",
       "Executive[T.True]          -0.1708      0.121     -1.415      0.157      -0.407       0.066\n",
       "Other[T.True]              -0.1386      0.054     -2.589      0.010      -0.244      -0.034\n",
       "Clerical[T.True]            0.0708      0.120      0.589      0.556      -0.165       0.306\n",
       "Construction[T.True]       -0.1236      0.140     -0.884      0.377      -0.398       0.151\n",
       "Teacher[T.True]            -0.2787      0.132     -2.110      0.035      -0.537      -0.020\n",
       "amount_borrowed            -0.0002   3.41e-05     -6.123      0.000      -0.000      -0.000\n",
       "listing_monthly_payment     0.0067      0.001      6.689      0.000       0.005       0.009\n",
       "borrower_rate               6.8401      0.567     12.060      0.000       5.729       7.952\n",
       "stated_monthly_income   -1.587e-05   6.39e-06     -2.484      0.013   -2.84e-05   -3.35e-06\n",
       "dti_wprosper_loan        1.106e-07   8.29e-08      1.333      0.182    -5.2e-08    2.73e-07\n",
       "pti                        -0.0082      0.031     -0.260      0.795      -0.070       0.053\n",
       "===========================================================================================\n",
       "\"\"\""
      ]
     },
     "execution_count": 50,
     "metadata": {},
     "output_type": "execute_result"
    }
   ],
   "source": [
    "result.summary()"
   ]
  },
  {
   "cell_type": "code",
   "execution_count": 51,
   "metadata": {},
   "outputs": [
    {
     "data": {
      "text/plain": [
       "0.04683562914739792"
      ]
     },
     "execution_count": 51,
     "metadata": {},
     "output_type": "execute_result"
    }
   ],
   "source": [
    "#does this fit better?\n",
    "result.prsquared"
   ]
  },
  {
   "cell_type": "code",
   "execution_count": 52,
   "metadata": {},
   "outputs": [
    {
     "data": {
      "text/plain": [
       "array([0.11089199, 0.11149195, 0.09433694, ..., 0.10982075, 0.07878096,\n",
       "       0.19456266])"
      ]
     },
     "execution_count": 52,
     "metadata": {},
     "output_type": "execute_result"
    }
   ],
   "source": [
    "result.predict()"
   ]
  },
  {
   "cell_type": "code",
   "execution_count": 53,
   "metadata": {},
   "outputs": [],
   "source": [
    "#ROC curve\n",
    "fpr, tpr, thresholds = metrics.roc_curve(loans['defaulted'], result.predict())"
   ]
  },
  {
   "cell_type": "code",
   "execution_count": 54,
   "metadata": {},
   "outputs": [],
   "source": [
    "roc_auc = metrics.auc(fpr, tpr)"
   ]
  },
  {
   "cell_type": "code",
   "execution_count": 55,
   "metadata": {},
   "outputs": [
    {
     "data": {
      "text/plain": [
       "0.6657770529366465"
      ]
     },
     "execution_count": 55,
     "metadata": {},
     "output_type": "execute_result"
    }
   ],
   "source": [
    "roc_auc"
   ]
  },
  {
   "cell_type": "code",
   "execution_count": 56,
   "metadata": {},
   "outputs": [
    {
     "data": {
      "text/plain": [
       "<matplotlib.legend.Legend at 0x21391fdcc50>"
      ]
     },
     "execution_count": 56,
     "metadata": {},
     "output_type": "execute_result"
    },
    {
     "data": {
      "image/png": "[encoded data removed]",
      "text/plain": [
       "<Figure size 640x480 with 1 Axes>"
      ]
     },
     "metadata": {},
     "output_type": "display_data"
    }
   ],
   "source": [
    "# Plot ROC curve\n",
    "pylab.plot(fpr, tpr, label='ROC curve (area = %0.3f)' % roc_auc)\n",
    "pylab.plot([0, 1], [0, 1], 'k--')  # random predictions curve\n",
    "pylab.xlim([0.0, 1.0])\n",
    "pylab.ylim([0.0, 1.0])\n",
    "pylab.xlabel('False Positive Rate or (1 - Specifity)')\n",
    "pylab.ylabel('True Positive Rate or (Sensitivity)')\n",
    "pylab.title('Receiver Operating Characteristic')\n",
    "pylab.legend(loc=\"lower right\")"
   ]
  },
  {
   "cell_type": "code",
   "execution_count": 57,
   "metadata": {},
   "outputs": [
    {
     "data": {
      "text/plain": [
       "array([0.17073912, 0.17073912, 0.17073912, ..., 0.17073912, 0.17073912,\n",
       "       0.17073912])"
      ]
     },
     "execution_count": 57,
     "metadata": {},
     "output_type": "execute_result"
    }
   ],
   "source": [
    "#Let's calculate AUC and plot for a naive model to compare\n",
    "#just predict every loan has the mean default probability as the whole sample\n",
    "pred_bad = np.copy(result.predict())\n",
    "pred_bad[:] = loans['defaulted'].mean()\n",
    "pred_bad"
   ]
  },
  {
   "cell_type": "code",
   "execution_count": 58,
   "metadata": {},
   "outputs": [],
   "source": [
    "fpr, tpr, thresholds = metrics.roc_curve(loans['defaulted'], pred_bad)"
   ]
  },
  {
   "cell_type": "code",
   "execution_count": 59,
   "metadata": {},
   "outputs": [
    {
     "data": {
      "text/plain": [
       "0.5"
      ]
     },
     "execution_count": 59,
     "metadata": {},
     "output_type": "execute_result"
    }
   ],
   "source": [
    "roc_auc = metrics.auc(fpr, tpr)\n",
    "roc_auc"
   ]
  },
  {
   "cell_type": "code",
   "execution_count": 60,
   "metadata": {},
   "outputs": [
    {
     "data": {
      "text/plain": [
       "<matplotlib.legend.Legend at 0x2139212fe10>"
      ]
     },
     "execution_count": 60,
     "metadata": {},
     "output_type": "execute_result"
    },
    {
     "data": {
      "image/png": "[encoded data removed]",
      "text/plain": [
       "<Figure size 640x480 with 1 Axes>"
      ]
     },
     "metadata": {},
     "output_type": "display_data"
    }
   ],
   "source": [
    "# Plot ROC curve\n",
    "pylab.plot(fpr, tpr, label='ROC curve (area = %0.3f)' % roc_auc)\n",
    "pylab.plot([0, 1], [0, 1], 'k--')  # random predictions curve\n",
    "pylab.xlim([0.0, 1.0])\n",
    "pylab.ylim([0.0, 1.0])\n",
    "pylab.xlabel('False Positive Rate or (1 - Specifity)')\n",
    "pylab.ylabel('True Positive Rate or (Sensitivity)')\n",
    "pylab.title('Receiver Operating Characteristic')\n",
    "pylab.legend(loc=\"lower right\")"
   ]
  },
  {
   "cell_type": "code",
   "execution_count": 61,
   "metadata": {},
   "outputs": [
    {
     "data": {
      "text/plain": [
       "0.9719224030089146"
      ]
     },
     "execution_count": 61,
     "metadata": {},
     "output_type": "execute_result"
    }
   ],
   "source": [
    "#And for a great model\n",
    "#this uses the actual outcome in place of the prediction\n",
    "pred = loans['defaulted'].copy()\n",
    "#and reverses the first 500 loans so it is not quite perfect\n",
    "pred[0:500] = 1 - pred[0:500]\n",
    "fpr, tpr, thresholds = metrics.roc_curve(loans['defaulted'].values, pred.values)\n",
    "roc_auc = metrics.auc(fpr, tpr)\n",
    "roc_auc"
   ]
  },
  {
   "cell_type": "code",
   "execution_count": 62,
   "metadata": {},
   "outputs": [
    {
     "data": {
      "text/plain": [
       "<matplotlib.legend.Legend at 0x2138b00b310>"
      ]
     },
     "execution_count": 62,
     "metadata": {},
     "output_type": "execute_result"
    },
    {
     "data": {
      "image/png": "[encoded data removed]",
      "text/plain": [
       "<Figure size 640x480 with 1 Axes>"
      ]
     },
     "metadata": {},
     "output_type": "display_data"
    }
   ],
   "source": [
    "# Plot ROC curve\n",
    "pylab.plot(fpr, tpr, label='ROC curve (area = %0.3f)' % roc_auc)\n",
    "pylab.plot([0, 1], [0, 1], 'k--')  # random predictions curve\n",
    "pylab.xlim([0.0, 1.0])\n",
    "pylab.ylim([0.0, 1.0])\n",
    "pylab.xlabel('False Positive Rate or (1 - Specifity)')\n",
    "pylab.ylabel('True Positive Rate or (Sensitivity)')\n",
    "pylab.title('Receiver Operating Characteristic')\n",
    "pylab.legend(loc=\"lower right\")"
   ]
  },
  {
   "cell_type": "code",
   "execution_count": 63,
   "metadata": {},
   "outputs": [],
   "source": [
    "result.save('Logit2.pkl', remove_data=True)"
   ]
  }
 ],
 "metadata": {
  "kernelspec": {
   "display_name": "Python 3 (ipykernel)",
   "language": "python",
   "name": "python3"
  },
  "language_info": {
   "codemirror_mode": {
    "name": "ipython",
    "version": 3
   },
   "file_extension": ".py",
   "mimetype": "text/x-python",
   "name": "python",
   "nbconvert_exporter": "python",
   "pygments_lexer": "ipython3",
   "version": "3.11.5"
  }
 },
 "nbformat": 4,
 "nbformat_minor": 2
}
